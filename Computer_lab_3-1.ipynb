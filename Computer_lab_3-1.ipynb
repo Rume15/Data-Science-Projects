{
 "cells": [
  {
   "cell_type": "markdown",
   "metadata": {},
   "source": [
    "# Introduction to Statistics (37151)\n",
    "# Computer Lab 3: Linear Regression Using R\n",
    "$\\textbf{IMPORTANT: Please read the instruction sheet for Computer Lab 3 before attempting this worksheet!}$ $\\textbf{It contains extremely important information for this assignment.}$"
   ]
  },
  {
   "cell_type": "code",
   "execution_count": 16,
   "metadata": {},
   "outputs": [],
   "source": [
    "# Please enter your computer lab group number (1 to 11), the name of your computer lab tutor \n",
    "# and the full names and student ID numbers of the members of your team below:\n",
    "\n",
    "# Computer Lab Group Number:\n",
    "# Name of Tutor:\n",
    "\n",
    "# Member 1 (Group Leader):\n",
    "# Member 2:\n",
    "# Member 3:\n",
    "# Member 4:\n",
    "# Member 5:"
   ]
  },
  {
   "cell_type": "markdown",
   "metadata": {},
   "source": [
    "**Important notes**: \n",
    "1. This computer lab is significantly harder than Computer lab 1. You may also find it more difficult than Computer lab 2. Some tips: Collaborate efficiently, start early (before the assigned computer lab time) and meet up with your group after the computer lab to finalise (if needed).\n",
    "2. You can add comments in R by using the # symbol. These comments are not run as R code and will not affect your output.\n",
    "3. Always use the help() function to find out how a function works, but do not forget to comment it out when handing in the worksheet (to avoid unnecessary output).\n",
    "4. For debugging purposes, it is sometimes useful to clean all variables (by deleting them) and rerun all cells. Deleting variables is done by typing $\\mathrm{rm(list = ls())}$ in R (in the top code cell). Alternatively, you can use the restart kernel approach in Jupyter notebook (see the instructions).\n",
    "5. Make sure to check that the HTML file you hand in contains all answers (without anything being cut off). Recall that errors are deducted 1 mark (except Section 1 where the penalty is 0.5 mark), so make sure to check your solutions thoroughly before submission."
   ]
  },
  {
   "cell_type": "markdown",
   "metadata": {},
   "source": [
    "## 1. Introduction to R (Part 3)\n",
    "In this part of the worksheet, we will extend your knowledge of some of the computations you can perform in R. These computations will be especially useful when fitting simple linear regression models in R. They also come in handy when computing confidence intervals, prediction intervals or when carrying out hypothesis testing. \n",
    "\n",
    "Do refer to computer labs worksheet 1 and 2 if you need a recap! For a more comprehensive introduction to R, do take a look at https://cran.r-project.org/doc/manuals/r-release/R-intro.pdf. You may also find it useful to do a search on Google for additional help. \n"
   ]
  },
  {
   "cell_type": "markdown",
   "metadata": {},
   "source": [
    "### 1.1 Using the sum( ) function\n",
    "\n",
    "sum( ) returns the sum of all the values present in its arguments. Therefore, if we input a numeric vector into the sum( ) function, it will return the sum of all the numeric elements present in that vector. \n",
    "\n",
    "An example has been provided below where we first define the numeric vector followed by a computation of the sum of all the elements in that vector."
   ]
  },
  {
   "cell_type": "code",
   "execution_count": 17,
   "metadata": {},
   "outputs": [
    {
     "name": "stdout",
     "output_type": "stream",
     "text": [
      "[1]  5  6 10 32  3\n",
      "[1] 56\n"
     ]
    }
   ],
   "source": [
    "# Define numeric vector a\n",
    "a <- c(5, 6, 10, 32, 3)\n",
    "print(a)\n",
    "\n",
    "# Computes the sum of all the elements in a\n",
    "sum_a <- sum(a)\n",
    "print(sum_a)"
   ]
  },
  {
   "cell_type": "markdown",
   "metadata": {},
   "source": [
    "$\\textbf{Exercise 1.1.1}$: Create a numeric vector with the integer values 1, 2, 3, 4 and 10. Assign this vector to the variable b and print it."
   ]
  },
  {
   "cell_type": "code",
   "execution_count": 18,
   "metadata": {},
   "outputs": [
    {
     "name": "stdout",
     "output_type": "stream",
     "text": [
      "[1]  1  2  3  4 10\n"
     ]
    }
   ],
   "source": [
    "# Creating another numeric vector:\n",
    "b<-c(1,2,3,4,10)\n",
    "print(b)"
   ]
  },
  {
   "cell_type": "markdown",
   "metadata": {},
   "source": [
    "$\\textbf{Exercise 1.1.2}$: Compute the sum of all the elements in b. Assign the sum to the variable sum_b and print it."
   ]
  },
  {
   "cell_type": "code",
   "execution_count": 19,
   "metadata": {},
   "outputs": [
    {
     "name": "stdout",
     "output_type": "stream",
     "text": [
      "[1] 56\n"
     ]
    }
   ],
   "source": [
    "# Computing the sum of elements in b:\n",
    "sum_a <- sum(a)\n",
    "print(sum_a)"
   ]
  },
  {
   "cell_type": "markdown",
   "metadata": {},
   "source": [
    "### 1.2 Element-wise operations with vectors in R\n",
    "You may often want to perform an operation on each element of a vector while doing a computation. For instance, you may want to add two vectors\n",
    "by adding all of the corresponding elements. Note that the vectors have to be of the same length to allow for element-wise operations.\n",
    "\n",
    "For example, if d = [10  20  32  45  6] and e = [1  2  8  5  3] then we can add the two vectors element-wise by doing the following:"
   ]
  },
  {
   "cell_type": "code",
   "execution_count": 20,
   "metadata": {},
   "outputs": [],
   "source": [
    "# Creating the numeric vectors d and e:\n",
    "d <- c(10, 20, 32, 45, 6)\n",
    "e <- c(1, 2, 8, 5, 3)"
   ]
  },
  {
   "cell_type": "code",
   "execution_count": 21,
   "metadata": {},
   "outputs": [
    {
     "name": "stdout",
     "output_type": "stream",
     "text": [
      "[1] 11 22 40 50  9\n"
     ]
    }
   ],
   "source": [
    "# Element-wise addition: Computing d + e:\n",
    "d_plus_e <- d + e\n",
    "print(d_plus_e)"
   ]
  },
  {
   "cell_type": "markdown",
   "metadata": {},
   "source": [
    "Notice how the corresponding elements from each vector have been added together. Similar computations can be done using the subtraction, multiplication and division operators as demostrated below:"
   ]
  },
  {
   "cell_type": "code",
   "execution_count": 22,
   "metadata": {},
   "outputs": [
    {
     "name": "stdout",
     "output_type": "stream",
     "text": [
      "[1]  9 18 24 40  3\n"
     ]
    }
   ],
   "source": [
    "# Element-wise subtraction: Computing d - e\n",
    "d_minus_e <- d - e\n",
    "print(d_minus_e)"
   ]
  },
  {
   "cell_type": "code",
   "execution_count": 23,
   "metadata": {},
   "outputs": [
    {
     "name": "stdout",
     "output_type": "stream",
     "text": [
      "[1]  10  40 256 225  18\n"
     ]
    }
   ],
   "source": [
    "# Element-wise multiplication: Computing d*e\n",
    "d_times_e <- d*e\n",
    "print(d_times_e)"
   ]
  },
  {
   "cell_type": "code",
   "execution_count": 24,
   "metadata": {},
   "outputs": [
    {
     "name": "stdout",
     "output_type": "stream",
     "text": [
      "[1] 10 10  4  9  2\n"
     ]
    }
   ],
   "source": [
    "# Element-wise division: Computing d/e\n",
    "d_div_by_e <- d/e\n",
    "print(d_div_by_e)"
   ]
  },
  {
   "cell_type": "markdown",
   "metadata": {},
   "source": [
    "Now it is your turn to practice doing these element-wise operations! Let us start off by creating two more numeric vectors. \n",
    "\n",
    "$\\textbf{Exercise 1.2.1}$:  \n",
    "\n",
    "(a) Create a numeric vector with the integer elements: 25, 8, 14, 65 and 30. Assign this to the variable g and print it.\n",
    "\n",
    "(b) Create another numeric vector with the integer elements: 5, 2, 7, 13 and 10. Assign this to the variable h and print it."
   ]
  },
  {
   "cell_type": "code",
   "execution_count": 25,
   "metadata": {},
   "outputs": [
    {
     "name": "stdout",
     "output_type": "stream",
     "text": [
      "[1] 25  8 14 65 30\n",
      "[1]  5  2  7 13 10\n"
     ]
    }
   ],
   "source": [
    "# (a) Create vector g:\n",
    "g=c(25,8,14,65,30)\n",
    "print(g)\n",
    "# (b) Create vector h:\n",
    "h=c(5,2,7,13,10)\n",
    "print(h)"
   ]
  },
  {
   "cell_type": "markdown",
   "metadata": {},
   "source": [
    "$\\textbf{Exercise 1.2.2}$: Perform element-wise addition for vectors g and h. Assign this to the variable g_plus_h and print it."
   ]
  },
  {
   "cell_type": "code",
   "execution_count": 26,
   "metadata": {},
   "outputs": [
    {
     "name": "stdout",
     "output_type": "stream",
     "text": [
      "[1] 30 10 21 78 40\n"
     ]
    }
   ],
   "source": [
    "# Element-wise addition for vectors g and h:\n",
    "g_plus_h<-g+h\n",
    "print(g_plus_h)"
   ]
  },
  {
   "cell_type": "markdown",
   "metadata": {},
   "source": [
    "$\\textbf{Exercise 1.2.3}$: Perform element-wise subtraction for vectors g and h. Assign this to the variable g_minus_h and print it."
   ]
  },
  {
   "cell_type": "code",
   "execution_count": 27,
   "metadata": {},
   "outputs": [
    {
     "name": "stdout",
     "output_type": "stream",
     "text": [
      "[1] 20  6  7 52 20\n"
     ]
    }
   ],
   "source": [
    "# Element-wise subtraction for vectors g and h:\n",
    "g_minus_h<-g-h \n",
    "print(g_minus_h)"
   ]
  },
  {
   "cell_type": "markdown",
   "metadata": {},
   "source": [
    "$\\textbf{Exercise 1.2.4}$: Perform element-wise multiplication for vectors g and h. Assign this to the variable g_times_h and print it."
   ]
  },
  {
   "cell_type": "code",
   "execution_count": 28,
   "metadata": {},
   "outputs": [
    {
     "name": "stdout",
     "output_type": "stream",
     "text": [
      "[1] 125  16  98 845 300\n"
     ]
    }
   ],
   "source": [
    "# Element-wise multiplication for vectors g and h:\n",
    "g_times_h<-g*h\n",
    "print(g_times_h)"
   ]
  },
  {
   "cell_type": "markdown",
   "metadata": {},
   "source": [
    "$\\textbf{Exercise 1.2.5}$: Perform element-wise division for vectors g and h, where we want the elements in vector g to be divided by the corresponding elements in vector h. Assign this to the variable g_div_by_h and print it."
   ]
  },
  {
   "cell_type": "code",
   "execution_count": 29,
   "metadata": {},
   "outputs": [
    {
     "name": "stdout",
     "output_type": "stream",
     "text": [
      "[1] 5 4 2 5 3\n"
     ]
    }
   ],
   "source": [
    "# Element-wise division for vectors g and h:\n",
    "g_div_by_h<-g/h\n",
    "print(g_div_by_h)"
   ]
  },
  {
   "cell_type": "markdown",
   "metadata": {},
   "source": [
    "### 1.3 Finding quantiles in R\n",
    "In the subject, we have had to compute quantiles for constructing confidence intervals or even to find the critical values for hypothesis testing purposes. Usually, we make use of the statistical tables provided in the textbook. Now let us see how we can compute these quantiles with the help of R software instead.\n",
    "\n",
    "For the first example, let us compute $z_{0.05}$. Recall that the quantile $z_{0.05}$ refers to the value on the horizontal axis such that $P(Z \\ge z_{0.05} = 0.05)$. \n",
    "\n",
    "To compute the quantile for a standard normal distribution, we make use of qnorm( ). \n",
    "\n",
    "- In R, the default setting is such that we input the probability computed to the left of the quantile as the first argument.\n",
    "- However, by specifying 'lower.tail = FALSE' at the end, we can input the probability computed to the right of the quantile that we desire instead (e.g. probability of 0.05 for $z_{0.05}$).\n",
    "\n",
    "Refer to the code provided below to see how this is done."
   ]
  },
  {
   "cell_type": "code",
   "execution_count": 30,
   "metadata": {},
   "outputs": [
    {
     "data": {
      "text/html": [
       "0"
      ],
      "text/latex": [
       "0"
      ],
      "text/markdown": [
       "0"
      ],
      "text/plain": [
       "[1] 0"
      ]
     },
     "metadata": {},
     "output_type": "display_data"
    }
   ],
   "source": [
    "#Finding the value of z_{0.05}:\n",
    "qnorm(0.5, lower.tail = FALSE)"
   ]
  },
  {
   "cell_type": "markdown",
   "metadata": {},
   "source": [
    "For $t$-quantiles, we need the function qt( ). \n",
    "\n",
    "- The first argument passed into the function is the probability computed to the right of the quantile (provided that it is specified that lower.tail = FALSE at the end). \n",
    "- The second argument passed into the function is the intended value for the degrees of freedom. \n",
    "\n",
    "\n",
    "As an example for a $t$-quantile, we can compute $t_{0.025}$ with $\\upsilon = 6$ as follows:"
   ]
  },
  {
   "cell_type": "code",
   "execution_count": 31,
   "metadata": {},
   "outputs": [
    {
     "data": {
      "text/html": [
       "2.44691185114497"
      ],
      "text/latex": [
       "2.44691185114497"
      ],
      "text/markdown": [
       "2.44691185114497"
      ],
      "text/plain": [
       "[1] 2.446912"
      ]
     },
     "metadata": {},
     "output_type": "display_data"
    }
   ],
   "source": [
    "# Finding the value of t_{0.025} with 6 degrees of freedom:\n",
    "qt(0.025, 6, lower.tail = FALSE)"
   ]
  },
  {
   "cell_type": "markdown",
   "metadata": {},
   "source": [
    "For $\\chi^2$-quantiles, we need the function qchisq( ). \n",
    "\n",
    "- Similar to the previous example, the first argument passed into the function is the probability computed to the right of the quantile (provided that it is specified that lower.tail = FALSE at the end). \n",
    "- The second argument passed into the function is the intended value for the degrees of freedom. \n",
    "\n",
    "As an example for a $\\chi^2$-quantile, we can compute $\\chi^2_{0.1}$ with $\\upsilon = 2$ as follows:"
   ]
  },
  {
   "cell_type": "code",
   "execution_count": 32,
   "metadata": {},
   "outputs": [
    {
     "data": {
      "text/html": [
       "4.60517018598809"
      ],
      "text/latex": [
       "4.60517018598809"
      ],
      "text/markdown": [
       "4.60517018598809"
      ],
      "text/plain": [
       "[1] 4.60517"
      ]
     },
     "metadata": {},
     "output_type": "display_data"
    }
   ],
   "source": [
    "# Finding the value of chi^2_{0.1} with 2 degrees of freedom:\n",
    "qchisq(0.1, 2, lower.tail = FALSE)"
   ]
  },
  {
   "cell_type": "markdown",
   "metadata": {},
   "source": [
    "For $f$-quantiles, we need the function qf( ). \n",
    "\n",
    "- For this function, the first argument passed into the function is the probability computed to the right of the quantile (provided that it is specified that lower.tail = FALSE at the end). \n",
    "- The second and third arguments passed into the function are the values for the degrees of freedom, $\\upsilon_1$ and $\\upsilon_2$ respectively. \n",
    "\n",
    "As an example for the $f$-quantile, we can compute $f_{0.05}$ with $\\upsilon_1 = 10$ and $\\upsilon_2 = 13$ as follows:"
   ]
  },
  {
   "cell_type": "code",
   "execution_count": 33,
   "metadata": {},
   "outputs": [
    {
     "data": {
      "text/html": [
       "2.67102422855513"
      ],
      "text/latex": [
       "2.67102422855513"
      ],
      "text/markdown": [
       "2.67102422855513"
      ],
      "text/plain": [
       "[1] 2.671024"
      ]
     },
     "metadata": {},
     "output_type": "display_data"
    }
   ],
   "source": [
    "# Finding the value of f_{0.05} with degrees of freedom 10 and 13:\n",
    "qf(0.05, 10, 13, lower.tail = FALSE)"
   ]
  },
  {
   "cell_type": "markdown",
   "metadata": {},
   "source": [
    "$\\textbf{Exercise 1.3.1}$: Compute the value of $z_{0.1}$."
   ]
  },
  {
   "cell_type": "code",
   "execution_count": 37,
   "metadata": {},
   "outputs": [
    {
     "data": {
      "text/html": [
       "0"
      ],
      "text/latex": [
       "0"
      ],
      "text/markdown": [
       "0"
      ],
      "text/plain": [
       "[1] 0"
      ]
     },
     "metadata": {},
     "output_type": "display_data"
    }
   ],
   "source": [
    "# Finding the value of z_{0.1}:\n",
    "qnorm(0.5,lower.tail=FALSE)"
   ]
  },
  {
   "cell_type": "markdown",
   "metadata": {},
   "source": [
    "$\\textbf{Exercise 1.3.2}$: Compute the value of $t_{0.05}$ with $\\upsilon = 11$.."
   ]
  },
  {
   "cell_type": "code",
   "execution_count": 35,
   "metadata": {},
   "outputs": [
    {
     "data": {
      "text/html": [
       "1.79588481870404"
      ],
      "text/latex": [
       "1.79588481870404"
      ],
      "text/markdown": [
       "1.79588481870404"
      ],
      "text/plain": [
       "[1] 1.795885"
      ]
     },
     "metadata": {},
     "output_type": "display_data"
    }
   ],
   "source": [
    "# Finding the value of t_{0.05} with 11 degrees of freedom:\n",
    "qt(0.05,11,lower.tail=FALSE)"
   ]
  },
  {
   "cell_type": "markdown",
   "metadata": {},
   "source": [
    "$\\textbf{Exercise 1.3.3}$: Compute the value of $\\chi^2_{0.2}$ with $\\upsilon = 8$."
   ]
  },
  {
   "cell_type": "code",
   "execution_count": 25,
   "metadata": {},
   "outputs": [
    {
     "data": {
      "text/html": [
       "11.0300914303031"
      ],
      "text/latex": [
       "11.0300914303031"
      ],
      "text/markdown": [
       "11.0300914303031"
      ],
      "text/plain": [
       "[1] 11.03009"
      ]
     },
     "metadata": {},
     "output_type": "display_data"
    }
   ],
   "source": [
    "# Finding the value of chi^2_{0.2} with 8 degrees of freedom:\n",
    "qchisq(0.2,8,lower.tail=FALSE)"
   ]
  },
  {
   "cell_type": "markdown",
   "metadata": {},
   "source": [
    "$\\textbf{Exercise 1.3.4}$: Compute the value of $f_{0.01}$ with degrees of freedom $\\upsilon_1 = 5$ and $\\upsilon_2 = 22$."
   ]
  },
  {
   "cell_type": "code",
   "execution_count": 26,
   "metadata": {},
   "outputs": [
    {
     "data": {
      "text/html": [
       "3.98796322312695"
      ],
      "text/latex": [
       "3.98796322312695"
      ],
      "text/markdown": [
       "3.98796322312695"
      ],
      "text/plain": [
       "[1] 3.987963"
      ]
     },
     "metadata": {},
     "output_type": "display_data"
    }
   ],
   "source": [
    "# Finding the value of f_{0.01} with degrees of freedom 5 and 22:\n",
    "qf(0.01,5,22,lower.tail=FALSE)"
   ]
  },
  {
   "cell_type": "markdown",
   "metadata": {},
   "source": [
    "## 2. Simple Linear Regression in R for Ex 11.9 from Walpole et al. (2016)\n",
    "### 2.1 Performing simple linear regressions manually in R\n",
    "In Exercise 11.9 from Walpole et al. (2016), you had to perform a few tedious calculations to obtain the estimated regression coefficients to in order to find the equation of the fitted regression line. Let us take a look at how this can be done in a manual yet less tedious way with the help of R.\n",
    "\n",
    "In the previous computer lab session, you have learned how to create numeric vectors. Using the data given in the question, we will create numeric vectors for our response y (sales) and regressor x (advertising costs) variables."
   ]
  },
  {
   "cell_type": "code",
   "execution_count": 28,
   "metadata": {},
   "outputs": [],
   "source": [
    "# Creating the x and y vectors\n",
    "cost <- c (40, 20, 25, 20, 30, 50, 40, 20, 50, 40, 25, 50)\n",
    "sales <- c(385, 400, 395, 365, 475, 440, 490, 420, 560, 525, 480, 510)"
   ]
  },
  {
   "cell_type": "markdown",
   "metadata": {},
   "source": [
    "Now that we have created our vectors, it is easy to visualise the data using a scatterplot. "
   ]
  },
  {
   "cell_type": "code",
   "execution_count": 29,
   "metadata": {},
   "outputs": [
    {
     "data": {
      "image/png": "[encoded data removed]",
      "text/plain": [
       "Plot with title \"Scatterplot (Sales vs. Advertising Costs)\""
      ]
     },
     "metadata": {},
     "output_type": "display_data"
    }
   ],
   "source": [
    "# Scatter diagram for Exercise 11.9\n",
    "plot(cost, sales, main = \"Scatterplot (Sales vs. Advertising Costs)\", xlab = \"Advertising Costs\", ylab = \"Sales\")"
   ]
  },
  {
   "cell_type": "markdown",
   "metadata": {},
   "source": [
    "Part(b) of the exercise requires the equation of the fitted regression line. Before we continue, let us breakdown the formulas for the estimated regression coefficients and compute several smaller sums first. \n",
    "\n",
    "Firstly, we can compute $n$ by finding the length of the vector for the response variable. "
   ]
  },
  {
   "cell_type": "code",
   "execution_count": 41,
   "metadata": {},
   "outputs": [
    {
     "name": "stdout",
     "output_type": "stream",
     "text": [
      "[1] 12\n"
     ]
    }
   ],
   "source": [
    "n <- length(sales)\n",
    "print(n)"
   ]
  },
  {
   "cell_type": "markdown",
   "metadata": {},
   "source": [
    "Next, we compute $\\sum^n_i x_i$."
   ]
  },
  {
   "cell_type": "code",
   "execution_count": 40,
   "metadata": {},
   "outputs": [
    {
     "name": "stdout",
     "output_type": "stream",
     "text": [
      "[1] 410\n"
     ]
    }
   ],
   "source": [
    "sum_cost <- sum(cost)\n",
    "print(sum_cost)"
   ]
  },
  {
   "cell_type": "markdown",
   "metadata": {},
   "source": [
    "Next, we compute $\\sum^n_i y_i$."
   ]
  },
  {
   "cell_type": "code",
   "execution_count": 39,
   "metadata": {},
   "outputs": [
    {
     "name": "stdout",
     "output_type": "stream",
     "text": [
      "[1] 5445\n"
     ]
    }
   ],
   "source": [
    "sum_sales <- sum(sales)\n",
    "print(sum_sales)"
   ]
  },
  {
   "cell_type": "markdown",
   "metadata": {},
   "source": [
    "Next, we compute $\\sum^n_i x_i^2$."
   ]
  },
  {
   "cell_type": "code",
   "execution_count": 38,
   "metadata": {},
   "outputs": [
    {
     "name": "stdout",
     "output_type": "stream",
     "text": [
      "[1] 15650\n"
     ]
    }
   ],
   "source": [
    "sum_costsq <- sum(cost^2)\n",
    "print(sum_costsq)"
   ]
  },
  {
   "cell_type": "markdown",
   "metadata": {},
   "source": [
    "Next, we compute $\\sum^n_i x_i y_i$."
   ]
  },
  {
   "cell_type": "code",
   "execution_count": 37,
   "metadata": {},
   "outputs": [
    {
     "name": "stdout",
     "output_type": "stream",
     "text": [
      "[1] 191325\n"
     ]
    }
   ],
   "source": [
    "ex_sum_cross <- sum(cost*sales)\n",
    "print(ex_sum_cross)"
   ]
  },
  {
   "cell_type": "markdown",
   "metadata": {},
   "source": [
    "Now that we have all the quantities that we need, let us compute $b_1$, the least squares estimate for the $\\beta_1$ regression coefficient. \n",
    "\n",
    "The formula for computing $b_1$ is given by $\\frac{\\sum^n_i(x_i - \\bar{x})(y_i - \\bar{y})}{\\sum^n_i(x_i - \\bar{x})^2}$ = $\\frac{n\\sum^n_i x_i y_i \\text{ }- \\text{ }(\\sum^n_i x_i)(\\sum^n_i y_i)}{n\\sum^n_i x_i^2\\text{ } - \\text{ }(\\sum^n_i x_i)^2}$."
   ]
  },
  {
   "cell_type": "code",
   "execution_count": 45,
   "metadata": {},
   "outputs": [
    {
     "name": "stdout",
     "output_type": "stream",
     "text": [
      "[1] 3.220812\n"
     ]
    }
   ],
   "source": [
    "ex_b1 <- (n*ex_sum_cross - sum_cost*sum_sales)/(n*(sum_costsq) - (sum_cost)^2)\n",
    "print(ex_b1)"
   ]
  },
  {
   "cell_type": "markdown",
   "metadata": {},
   "source": [
    "We can also compute $b_0$, the least square estimate for the $\\beta_0$ regression coefficient. \n",
    "\n",
    "The formula for computing $b_0$ is given by $\\bar{y} - b_1\\bar{x}$ = $\\frac{\\sum^n_i y_i\\text{ } - \\text{ }b_1\\sum^n_i x_i}{n}$"
   ]
  },
  {
   "cell_type": "code",
   "execution_count": 46,
   "metadata": {},
   "outputs": [
    {
     "name": "stdout",
     "output_type": "stream",
     "text": [
      "[1] 343.7056\n"
     ]
    }
   ],
   "source": [
    "ex_b0 <- (sum_sales - ex_b1*sum_cost)/n\n",
    "print(ex_b0)"
   ]
  },
  {
   "cell_type": "markdown",
   "metadata": {},
   "source": [
    "Having computed the estimated regression coefficients, we can now find the equation of the fitted regression line."
   ]
  },
  {
   "cell_type": "code",
   "execution_count": 47,
   "metadata": {},
   "outputs": [
    {
     "name": "stdout",
     "output_type": "stream",
     "text": [
      "The estimated regression line is given by y_hat =  343.7056 + 3.220812 x"
     ]
    }
   ],
   "source": [
    "cat(\"The estimated regression line is given by y_hat = \", ex_b0, \"+\", ex_b1, \"x\")"
   ]
  },
  {
   "cell_type": "markdown",
   "metadata": {},
   "source": [
    "Since we have found the equation of the estimated regression line, let us go ahead and add this to the scatterplot we had previously plotted. In R, we can easily plot the fitted regression line using abline( ).\n",
    "\n",
    "The arguments input into the abline( ) function below to plot the fitted regression line are as follows:  \n",
    "\n",
    "- The basic function here is abline(a, b).\n",
    "- a represents the argument passed for the intercept. Hence, we will input the ex_b0 variable that we created as the argument for the intercept parameter.\n",
    "- b represents the argument passed for the slope. Hence, we will input the ex_b1 variable that we created as the argument for the slope parameter."
   ]
  },
  {
   "cell_type": "code",
   "execution_count": 48,
   "metadata": {},
   "outputs": [
    {
     "data": {
      "image/png": "[encoded data removed]",
      "text/plain": [
       "Plot with title \"Scatterplot (Advertising costs vs. Sales)\""
      ]
     },
     "metadata": {},
     "output_type": "display_data"
    }
   ],
   "source": [
    "plot(cost, sales, main = \"Scatterplot (Advertising costs vs. Sales)\", xlab = \"Advertising Costs\", ylab = \"Sales\")\n",
    "abline(ex_b0, ex_b1)"
   ]
  },
  {
   "cell_type": "markdown",
   "metadata": {},
   "source": [
    "Since we have the equation of the fitted regression line, let us predict the weekly sales when advertising costs are $35 as in part (c) of your tutorial exercise."
   ]
  },
  {
   "cell_type": "code",
   "execution_count": 49,
   "metadata": {},
   "outputs": [
    {
     "name": "stdout",
     "output_type": "stream",
     "text": [
      "[1] 456.434\n"
     ]
    }
   ],
   "source": [
    "# Prediction when advertising costs are $35\n",
    "sales_pred_1 <- ex_b0 + ex_b1*35\n",
    "print(sales_pred_1)"
   ]
  },
  {
   "cell_type": "markdown",
   "metadata": {},
   "source": [
    "$\\textbf{Exercise 2.1.1}$: Predict the weekly sales when the advertising costs are $47 instead. Assign your answer to sales_pred_2 and print the variable."
   ]
  },
  {
   "cell_type": "code",
   "execution_count": 50,
   "metadata": {},
   "outputs": [
    {
     "name": "stdout",
     "output_type": "stream",
     "text": [
      "[1] 495.0838\n"
     ]
    }
   ],
   "source": [
    "# Prediction when advertising costs are $47\n",
    "sales_pred_2 <- ex_b0 + ex_b1*47\n",
    "print(sales_pred_2)"
   ]
  },
  {
   "cell_type": "markdown",
   "metadata": {},
   "source": [
    "### 2.2 Performing simple linear regressions using built-in R functions\n",
    "Now that we have covered how to estimate and plot a fitted regression line manually in R, let us learn how to achieve this in an even easier way with the help of built-in R functions!\n",
    "\n",
    "We can perform linear regression using the lm( ) function which returns an object of class \"lm\". \n",
    "\n",
    "The arguments input into the lm( ) function below to obtain the estimated regression model are as follows:  \n",
    "\n",
    "- The basic function here is lm(y ~ x).\n",
    "- y represents the argument passed to input the response variable. Hence, we will input $\\textbf{sales}$ under the argument for the response.\n",
    "- x represents the argument passed to input the regressor(s). Hence, we will input $\\textbf{cost}$ under the argument for the regressor(s).\n",
    "\n",
    "Here, we fit a simple linear regression model for Exercise 11.9 and print it."
   ]
  },
  {
   "cell_type": "code",
   "execution_count": 53,
   "metadata": {},
   "outputs": [
    {
     "name": "stdout",
     "output_type": "stream",
     "text": [
      "\n",
      "Call:\n",
      "lm(formula = sales ~ cost)\n",
      "\n",
      "Coefficients:\n",
      "(Intercept)         cost  \n",
      "    343.706        3.221  \n",
      "\n"
     ]
    }
   ],
   "source": [
    "ex_fit <- lm(sales ~ cost)\n",
    "print(ex_fit)"
   ]
  },
  {
   "cell_type": "markdown",
   "metadata": {},
   "source": [
    "We have immediately found the values for $b_0$ and $b_1$ without having to go through any of the calculations earlier! Let us explore what else can be done using other R functions.\n",
    "\n",
    "We can also find the confidence intervals for the regression coefficients $\\beta_0$ and $\\beta_1$ by using the confint( ) function. \n",
    "- The first argument passed into the function is an object of class \"lm\", i.e. our fitted regression model from earlier (ex_fit in this example). \n",
    "- In this case, we're looking for a 95\\% confidence interval, so the second argument passed into confint( ) reflects that."
   ]
  },
  {
   "cell_type": "code",
   "execution_count": 54,
   "metadata": {},
   "outputs": [
    {
     "data": {
      "text/html": [
       "<table>\n",
       "<thead><tr><th></th><th scope=col>2.5 %</th><th scope=col>97.5 %</th></tr></thead>\n",
       "<tbody>\n",
       "\t<tr><th scope=row>(Intercept)</th><td>243.9603219</td><td>443.450846 </td></tr>\n",
       "\t<tr><th scope=row>cost</th><td>  0.4587991</td><td>  5.982825 </td></tr>\n",
       "</tbody>\n",
       "</table>\n"
      ],
      "text/latex": [
       "\\begin{tabular}{r|ll}\n",
       "  & 2.5 \\% & 97.5 \\%\\\\\n",
       "\\hline\n",
       "\t(Intercept) & 243.9603219 & 443.450846 \\\\\n",
       "\tcost &   0.4587991 &   5.982825 \\\\\n",
       "\\end{tabular}\n"
      ],
      "text/markdown": [
       "\n",
       "| <!--/--> | 2.5 % | 97.5 % |\n",
       "|---|---|---|\n",
       "| (Intercept) | 243.9603219 | 443.450846  |\n",
       "| cost |   0.4587991 |   5.982825  |\n",
       "\n"
      ],
      "text/plain": [
       "            2.5 %       97.5 %    \n",
       "(Intercept) 243.9603219 443.450846\n",
       "cost          0.4587991   5.982825"
      ]
     },
     "metadata": {},
     "output_type": "display_data"
    }
   ],
   "source": [
    "confint(ex_fit, level = 0.95)"
   ]
  },
  {
   "cell_type": "markdown",
   "metadata": {},
   "source": [
    "Now let us proceed and make some predictions! \n",
    "\n",
    "Firstly, we need to create a dataframe containing the x (cost) values to be used for the predictions. \n",
    "\n",
    "Here, we wish to make a single prediction and hence the argument passed into data.frame( ) is simply 'cost = 35'. "
   ]
  },
  {
   "cell_type": "code",
   "execution_count": 58,
   "metadata": {
    "scrolled": true
   },
   "outputs": [],
   "source": [
    "# Creating a dataframe for a single prediction\n",
    "new_costs_single <- data.frame(cost = 35)"
   ]
  },
  {
   "cell_type": "markdown",
   "metadata": {},
   "source": [
    "Next, we will input our fitted regression model and the dataframe we created earlier into predict( ). This will give us the prediction that we want.\n",
    "\n",
    "In addition, to obtain 95% confidence intervals for the mean response $\\mu_{Y|x_0}$ given a particular $x_0$ value, we set the interval to take on the string value \"confidence\". The level is set to 0.95 as well."
   ]
  },
  {
   "cell_type": "code",
   "execution_count": 105,
   "metadata": {},
   "outputs": [
    {
     "name": "stdout",
     "output_type": "stream",
     "text": [
      "      fit      lwr      upr\n",
      "1 456.434 424.0465 488.8215\n"
     ]
    }
   ],
   "source": [
    "# Obtaining desired predictions together with 95% confidence intervals for the mean response:\n",
    "sales_pred_confint <- predict(ex_fit, new_costs_single, interval = \"confidence\", level = 0.95)\n",
    "print(sales_pred_confint)"
   ]
  },
  {
   "cell_type": "markdown",
   "metadata": {},
   "source": [
    "To make multiple predictions at the same time, we can assign a vector to the cost variable in the dataframe that we create instead."
   ]
  },
  {
   "cell_type": "code",
   "execution_count": 60,
   "metadata": {},
   "outputs": [],
   "source": [
    "#Creating a dataframe for multiple predictions\n",
    "new_costs_muliple <- data.frame(cost = c(23, 31, 47))"
   ]
  },
  {
   "cell_type": "markdown",
   "metadata": {},
   "source": [
    "Also, to obtain the 95% prediction intervals for the predicted responses, we set the interval to take on the string value \"prediction\". The level is set to 0.95 as well."
   ]
  },
  {
   "cell_type": "code",
   "execution_count": 61,
   "metadata": {},
   "outputs": [
    {
     "name": "stdout",
     "output_type": "stream",
     "text": [
      "       fit      lwr      upr\n",
      "1 417.7843 297.2906 538.2779\n",
      "2 443.5508 326.7434 560.3581\n",
      "3 495.0838 373.3305 616.8371\n"
     ]
    }
   ],
   "source": [
    "# Obtaining desired predictions together with 95% prediction intervals for the predicted responses:\n",
    "sales_pred_predint <- predict(ex_fit, new_costs_muliple, interval = \"prediction\", level = 0.95)\n",
    "print(sales_pred_predint)"
   ]
  },
  {
   "cell_type": "code",
   "execution_count": 63,
   "metadata": {},
   "outputs": [],
   "source": [
    "ex_residuals=residuals(ex_fit)"
   ]
  },
  {
   "cell_type": "markdown",
   "metadata": {},
   "source": [
    "Recall that we can find the residuals given our regression data and the fitted regression line by the following formula:\n",
    "\n",
    "$e_i = y_i - \\hat{y_i},\\quad i=1,2,\\dots,n$\n",
    "\n",
    "Instead of manually computing these, we just need to use the residuals( ) function and input the regression model that we fitted earlier."
   ]
  },
  {
   "cell_type": "markdown",
   "metadata": {},
   "source": [
    "Having found the residuals, we can now make a residual plot to observe the nature of the residuals found.\n",
    "- Here, we use the plot function again so that we can plot the residuals versus the advertising costs.\n",
    "- abline(h=0) simply draws a horizontal line at 0."
   ]
  },
  {
   "cell_type": "code",
   "execution_count": 64,
   "metadata": {
    "scrolled": true
   },
   "outputs": [
    {
     "data": {
      "image/png": "[encoded data removed]",
      "text/plain": [
       "Plot with title \"Residuals vs. Advertising Costs\""
      ]
     },
     "metadata": {},
     "output_type": "display_data"
    }
   ],
   "source": [
    "plot(cost, ex_residuals, main = \"Residuals vs. Advertising Costs\", xlab = \"Advertising Costs\", ylab = \"Residuals\")\n",
    "abline(h=0)"
   ]
  },
  {
   "cell_type": "markdown",
   "metadata": {},
   "source": [
    "$\\textbf{Exercise 2.2.1}$: Comment on the residual plot above. (Remember to start your comment using the # symbol)"
   ]
  },
  {
   "cell_type": "code",
   "execution_count": 44,
   "metadata": {},
   "outputs": [],
   "source": [
    "# Comment on the residual plot above.\n",
    "#The points are spread away from the centre indicating the prediction was too low."
   ]
  },
  {
   "cell_type": "markdown",
   "metadata": {},
   "source": [
    "Now, we will find out if our fitted model is statistically significant, i.e. if our estimated regression coefficients are significantly different from zero. \n",
    "\n",
    "First, we input our linear model object, ex_fit, into the summary( ) function."
   ]
  },
  {
   "cell_type": "code",
   "execution_count": 45,
   "metadata": {},
   "outputs": [
    {
     "data": {
      "text/plain": [
       "\n",
       "Call:\n",
       "lm(formula = sales ~ cost)\n",
       "\n",
       "Residuals:\n",
       "    Min      1Q  Median      3Q     Max \n",
       "-87.538 -32.700   8.566  39.118  55.774 \n",
       "\n",
       "Coefficients:\n",
       "            Estimate Std. Error t value Pr(>|t|)    \n",
       "(Intercept)  343.706     44.766   7.678 1.68e-05 ***\n",
       "cost           3.221      1.240   2.598   0.0266 *  \n",
       "---\n",
       "Signif. codes:  0 ‘***’ 0.001 ‘**’ 0.01 ‘*’ 0.05 ‘.’ 0.1 ‘ ’ 1\n",
       "\n",
       "Residual standard error: 50.23 on 10 degrees of freedom\n",
       "Multiple R-squared:  0.403,\tAdjusted R-squared:  0.3433 \n",
       "F-statistic: 6.751 on 1 and 10 DF,  p-value: 0.02657\n"
      ]
     },
     "metadata": {},
     "output_type": "display_data"
    }
   ],
   "source": [
    "summary(ex_fit)"
   ]
  },
  {
   "cell_type": "markdown",
   "metadata": {},
   "source": [
    "#### Hypothesis testing on the intercept using a t-test:\n",
    "While this hypothesis test is possible to conduct, we will not be performing it in this worksheet.\n",
    "\n",
    "- 1) Note that the intercept of any regression line you are trying to fit must always have a meaningful interpretation, i.e. what the value of the response Y represents when the regressor has a value of 0. In this example, the intercept is somewhat meaningful as it reflects the amount of sales when there are no advertising costs.\n",
    "- 2) Even is the intercept is meaningful, the hypotheses set when we use the summary( ) function are $H_0: \\beta_0 = 0$ and $H_1: \\beta_0 \\neq 0$. We would rather test for $\\beta_0$ taking on some other fixed meaningful value rather than zero. For this reason, we will skip through this particular hypothesis test in this worksheet."
   ]
  },
  {
   "cell_type": "markdown",
   "metadata": {},
   "source": [
    "#### Hypothesis testing on the slope using a t-test:\n",
    "Let us set a 0.05 level of significance.\n",
    "\n",
    "The hypotheses are $H_0: \\beta_1 = 0$ and $H_1: \\beta_1 \\neq 0$. \n",
    "\n",
    "The P-value for this test is 0.0266 and is given at the end of the line referring to cost in the output of the summary() function. By observing the number of asterisk signs, the single asterisk sign indicates that the P-value lies between 0.01 and 0.05. \n",
    "\n",
    "Hence, we reject $H_0$ at the 0.05 level of significance and conclude that $\\beta_1 \\neq 0$."
   ]
  },
  {
   "cell_type": "markdown",
   "metadata": {},
   "source": [
    "$\\textbf{Exercise 2.2.2}$: Interpret the (multiple) R-squared value. Does it indicate a good model fit?  (Remember to start your comment using the # symbol)"
   ]
  },
  {
   "cell_type": "code",
   "execution_count": 46,
   "metadata": {},
   "outputs": [],
   "source": [
    "# Interpret and comment on the R^2 value:\n",
    "#The R^2 of 0.403 indicates that only 40% of the data fits  the regression moddel hence doesn't indicate goodness of fit. "
   ]
  },
  {
   "cell_type": "markdown",
   "metadata": {},
   "source": [
    "## 3. Simple Linear Regression in R (Cars Dataset)\n",
    "In this part of the worksheet, we will work with the Cars dataset containing data providing the speed of cars and the stopping distances of these cars in the 1920s.\n",
    "\n",
    "The Cars data frame has 50 observations on 2 variables. This data frame contains the following:\n",
    "\n",
    "speed - numeric speed (mph),\n",
    "\n",
    "dist - numeric stopping distance (ft).\n",
    "\n",
    "Let us perform simple linear regression on this dataset based on what we've learned in Section 2!"
   ]
  },
  {
   "cell_type": "markdown",
   "metadata": {},
   "source": [
    "### 3.1 Performing simple linear regression manually in R using the cars dataset\n",
    "As usual, let's do some exploratory data analysis using the concepts taught over the first three weeks!\n",
    "\n",
    "Firstly, let us examine the first few rows of the dataset just to have a look:"
   ]
  },
  {
   "cell_type": "code",
   "execution_count": 65,
   "metadata": {},
   "outputs": [
    {
     "data": {
      "text/html": [
       "<table>\n",
       "<thead><tr><th scope=col>speed</th><th scope=col>dist</th></tr></thead>\n",
       "<tbody>\n",
       "\t<tr><td>4 </td><td> 2</td></tr>\n",
       "\t<tr><td>4 </td><td>10</td></tr>\n",
       "\t<tr><td>7 </td><td> 4</td></tr>\n",
       "\t<tr><td>7 </td><td>22</td></tr>\n",
       "\t<tr><td>8 </td><td>16</td></tr>\n",
       "\t<tr><td>9 </td><td>10</td></tr>\n",
       "</tbody>\n",
       "</table>\n"
      ],
      "text/latex": [
       "\\begin{tabular}{r|ll}\n",
       " speed & dist\\\\\n",
       "\\hline\n",
       "\t 4  &  2\\\\\n",
       "\t 4  & 10\\\\\n",
       "\t 7  &  4\\\\\n",
       "\t 7  & 22\\\\\n",
       "\t 8  & 16\\\\\n",
       "\t 9  & 10\\\\\n",
       "\\end{tabular}\n"
      ],
      "text/markdown": [
       "\n",
       "| speed | dist |\n",
       "|---|---|\n",
       "| 4  |  2 |\n",
       "| 4  | 10 |\n",
       "| 7  |  4 |\n",
       "| 7  | 22 |\n",
       "| 8  | 16 |\n",
       "| 9  | 10 |\n",
       "\n"
      ],
      "text/plain": [
       "  speed dist\n",
       "1 4      2  \n",
       "2 4     10  \n",
       "3 7      4  \n",
       "4 7     22  \n",
       "5 8     16  \n",
       "6 9     10  "
      ]
     },
     "metadata": {},
     "output_type": "display_data"
    }
   ],
   "source": [
    "#Examine the first few rows of the cars dataset.\n",
    "head(cars)"
   ]
  },
  {
   "cell_type": "markdown",
   "metadata": {},
   "source": [
    "Recall from computer lab worksheet 1 that one way to get a quick overview of the data is to use the str( ) function to obtain the structure of the dataset. It gives us useful information such as the number of observations, number of variables, names of the variables and the data types of the variables."
   ]
  },
  {
   "cell_type": "code",
   "execution_count": 66,
   "metadata": {},
   "outputs": [
    {
     "name": "stdout",
     "output_type": "stream",
     "text": [
      "'data.frame':\t50 obs. of  2 variables:\n",
      " $ speed: num  4 4 7 7 8 9 10 10 10 11 ...\n",
      " $ dist : num  2 10 4 22 16 10 18 26 34 17 ...\n"
     ]
    }
   ],
   "source": [
    "str(cars)"
   ]
  },
  {
   "cell_type": "markdown",
   "metadata": {},
   "source": [
    "In this dataset, the stopping distances of the cars (dist) is the response variable while the speeds of these cars (speed) is the regressor. The variables representing the response variable and regressor have already been defined for you below:"
   ]
  },
  {
   "cell_type": "code",
   "execution_count": 67,
   "metadata": {},
   "outputs": [],
   "source": [
    "# Define the response and regressor variables\n",
    "dist <- cars$dist\n",
    "speed <- cars$speed"
   ]
  },
  {
   "cell_type": "markdown",
   "metadata": {},
   "source": [
    "$\\textbf{Exercise 3.1.1}$: Plot a histogram for the response variable (dist). (Hint: Remember that we need to make use of the hist( ) function.)"
   ]
  },
  {
   "cell_type": "code",
   "execution_count": 68,
   "metadata": {},
   "outputs": [
    {
     "data": {
      "image/png": "[encoded data removed]",
      "text/plain": [
       "Plot with title \"Histogram of dist\""
      ]
     },
     "metadata": {},
     "output_type": "display_data"
    }
   ],
   "source": [
    "# Draw a histogram for the variable dist.\n",
    "hist(dist)"
   ]
  },
  {
   "cell_type": "markdown",
   "metadata": {},
   "source": [
    "$\\textbf{Exercise 3.1.2}$: Comment on the histogram that you plotted in $\\textbf{Exercise 3.1.1}$. (Remember to start your comment using the # symbol)"
   ]
  },
  {
   "cell_type": "code",
   "execution_count": 51,
   "metadata": {},
   "outputs": [],
   "source": [
    "# Comment on the histogram for dist.\n",
    "#This histogram tend to be right-skewed hence implying unimodal data."
   ]
  },
  {
   "cell_type": "markdown",
   "metadata": {},
   "source": [
    "$\\textbf{Exercise 3.1.3}$: Plot a scatterplot of dist versus speed. (Hint: Refer back to Section 2.1 for help!)"
   ]
  },
  {
   "cell_type": "code",
   "execution_count": 42,
   "metadata": {},
   "outputs": [
    {
     "name": "stdout",
     "output_type": "stream",
     "text": [
      "         1          2          3          4          5          6          7 \n",
      "-87.538071  -8.121827 -29.225888 -43.121827  34.670051 -64.746193  17.461929 \n",
      "         8          9         10         11         12 \n",
      " 11.878173  55.253807  52.461929  55.774112   5.253807 \n"
     ]
    }
   ],
   "source": [
    "ex_residuals <- residuals(ex_fit)\n",
    "print(ex_residuals)"
   ]
  },
  {
   "cell_type": "code",
   "execution_count": 70,
   "metadata": {},
   "outputs": [
    {
     "data": {
      "image/png": "[encoded data removed]",
      "text/plain": [
       "Plot with title \"scatterplot of dist versus speed\""
      ]
     },
     "metadata": {},
     "output_type": "display_data"
    }
   ],
   "source": [
    "# Plot the scatterplot of dist versus speed. \n",
    "scatter.smooth(dist,speed,main=\"scatterplot of dist versus speed\")"
   ]
  },
  {
   "cell_type": "markdown",
   "metadata": {},
   "source": [
    "Great! Let us now proceed to calculate the following quantities so that we can calculate the estimated regression coefficients for the regression line that we aim to fit later on."
   ]
  },
  {
   "cell_type": "markdown",
   "metadata": {},
   "source": [
    "$\\textbf{Exercise 3.1.4}$ Compute $n$ by finding the length of the vector for the response variable. Assign it to the variable cars_n and print it."
   ]
  },
  {
   "cell_type": "code",
   "execution_count": 73,
   "metadata": {},
   "outputs": [
    {
     "name": "stdout",
     "output_type": "stream",
     "text": [
      "[1] 50\n"
     ]
    }
   ],
   "source": [
    "# Create the variable cars_n:\n",
    "cars_n<-length(dist)\n",
    "print(cars_n)\n"
   ]
  },
  {
   "cell_type": "markdown",
   "metadata": {},
   "source": [
    "$\\textbf{Exercise 3.1.5}$: Compute $\\sum^n_i x_i$. Assign it to the variable sum_speed and print it."
   ]
  },
  {
   "cell_type": "code",
   "execution_count": 74,
   "metadata": {},
   "outputs": [
    {
     "name": "stdout",
     "output_type": "stream",
     "text": [
      "[1] 770\n"
     ]
    }
   ],
   "source": [
    "# Create the variable sum_speed:\n",
    "sum_speed<-sum(speed)\n",
    "print(sum_speed)"
   ]
  },
  {
   "cell_type": "markdown",
   "metadata": {},
   "source": [
    "$\\textbf{Exercise 3.1.6}$: Compute $\\sum^n_i y_i$. Assign it to the variable sum_dist and print it."
   ]
  },
  {
   "cell_type": "code",
   "execution_count": 75,
   "metadata": {},
   "outputs": [
    {
     "name": "stdout",
     "output_type": "stream",
     "text": [
      "[1] 2149\n"
     ]
    }
   ],
   "source": [
    "# Create the variable sum_dist:\n",
    "sum_dist<-sum(dist)\n",
    "print(sum_dist)"
   ]
  },
  {
   "cell_type": "markdown",
   "metadata": {},
   "source": [
    "$\\textbf{Exercise 3.1.8}$: Compute $\\sum^n_i x_i^2$. Assign it to the variable sum_speedsq and print it."
   ]
  },
  {
   "cell_type": "code",
   "execution_count": 76,
   "metadata": {},
   "outputs": [
    {
     "name": "stdout",
     "output_type": "stream",
     "text": [
      "[1] 13228\n"
     ]
    }
   ],
   "source": [
    "# Create the variable sum_speedsq:\n",
    "sum_speedsq<-sum(speed^2)\n",
    "print(sum_speedsq)"
   ]
  },
  {
   "cell_type": "markdown",
   "metadata": {},
   "source": [
    "$\\textbf{Exercise 3.1.9}$: Compute $\\sum^n_i x_i y_i$. Assign it to the variable cars_sum_cross and print it."
   ]
  },
  {
   "cell_type": "code",
   "execution_count": 77,
   "metadata": {},
   "outputs": [
    {
     "name": "stdout",
     "output_type": "stream",
     "text": [
      "[1] 38482\n"
     ]
    }
   ],
   "source": [
    "# Create the variable cars_sum_cross:\n",
    "cars_sum_cross<-sum(speed*dist)\n",
    "print(cars_sum_cross)"
   ]
  },
  {
   "cell_type": "markdown",
   "metadata": {},
   "source": [
    "$\\textbf{Exercise 3.1.10}$: \n",
    "\n",
    "Compute $b_1$, the least squares estimate for the $\\beta_1$ regression coefficient. \n",
    "\n",
    "Recall that the formula for computing $b_1$ is given by $\\frac{\\sum^n_i(x_i - \\bar{x})(y_i - \\bar{y})}{\\sum^n_i(x_i - \\bar{x})^2}$ = $\\frac{n\\sum^n_i x_i y_i \\text{ }- \\text{ }(\\sum^n_i x_i)(\\sum^n_i y_i)}{n\\sum^n_i x_i^2\\text{ } - \\text{ }(\\sum^n_i x_i)^2}$.\n",
    "\n",
    "Assign it to the variable cars_b1 and print it."
   ]
  },
  {
   "cell_type": "code",
   "execution_count": 78,
   "metadata": {},
   "outputs": [
    {
     "name": "stdout",
     "output_type": "stream",
     "text": [
      "[1] 2.747685\n"
     ]
    }
   ],
   "source": [
    "# Compute and create the variable cars_b1:\n",
    "cars_b1 <- (n*cars_sum_cross - sum_speed*sum_dist)/(n*(sum_speedsq) - (sum_speed)^2)\n",
    "print(cars_b1)"
   ]
  },
  {
   "cell_type": "markdown",
   "metadata": {},
   "source": [
    "$\\textbf{Exercise 3.1.11}$:\n",
    "\n",
    "Compute $b_0$, the least square estimate for the $\\beta_0$ regression coefficient. \n",
    "\n",
    "Recall that the formula for computing $b_0$ is given by $\\bar{y} - b_1\\bar{x}$ = $\\frac{\\sum^n_i y_i\\text{ } - \\text{ }b_1\\sum^n_i x_i}{n}$.\n",
    "\n",
    "Assign it to the variable cars_b0 and print it."
   ]
  },
  {
   "cell_type": "code",
   "execution_count": 79,
   "metadata": {},
   "outputs": [
    {
     "name": "stdout",
     "output_type": "stream",
     "text": [
      "[1] 0.6656478\n"
     ]
    }
   ],
   "source": [
    "# Compute and create the variable cars_b0:\n",
    "cars_b0 <- (sum_dist - cars_b1*sum_speed)/cars_n\n",
    "print(cars_b0)"
   ]
  },
  {
   "cell_type": "markdown",
   "metadata": {},
   "source": [
    "$\\textbf{Exercise 3.1.12}$: Having computed the estimated regression coefficients, we can now find the equation of the fitted regression line. Remove the # symbol to display the estimated regression line."
   ]
  },
  {
   "cell_type": "code",
   "execution_count": 80,
   "metadata": {},
   "outputs": [
    {
     "name": "stdout",
     "output_type": "stream",
     "text": [
      "The estimated regression line is given by y_hat =  0.6656478 + 2.747685 x"
     ]
    }
   ],
   "source": [
    "cat(\"The estimated regression line is given by y_hat = \", cars_b0, \"+\", cars_b1, \"x\")"
   ]
  },
  {
   "cell_type": "markdown",
   "metadata": {},
   "source": [
    "$\\textbf{Exercise 3.1.13}$: Plot the scatterplot of dist versus speed again. Then, plot the estimated regression line onto the scatterplot."
   ]
  },
  {
   "cell_type": "code",
   "execution_count": 83,
   "metadata": {},
   "outputs": [
    {
     "data": {
      "image/png": "[encoded data removed]",
      "text/plain": [
       "Plot with title \"dist vs speed\""
      ]
     },
     "metadata": {},
     "output_type": "display_data"
    }
   ],
   "source": [
    "# Plot estimated regression line onto the scatterplot of dist versus speed.\n",
    "plot(dist,speed,main=\"dist vs speed\")\n",
    "abline(cars_b0,cars_b1)"
   ]
  },
  {
   "cell_type": "markdown",
   "metadata": {},
   "source": [
    "$\\textbf{Exercise 3.1.14}$: Predict the stopping distance of the car when its speed is 13.7 mph using the equation of the fitted regression line that you have found earlier. Assign the prediction to the variable dist_pred and print it."
   ]
  },
  {
   "cell_type": "code",
   "execution_count": 99,
   "metadata": {},
   "outputs": [
    {
     "name": "stdout",
     "output_type": "stream",
     "text": [
      "[1] 38.30894\n"
     ]
    }
   ],
   "source": [
    "# Prediction when speed is 13.7 mph.\n",
    "dist_pred =cars_b0+cars_b1*13.7\n",
    "print(dist_pred)"
   ]
  },
  {
   "cell_type": "markdown",
   "metadata": {},
   "source": [
    "### 3.2 Performing simple linear regression using built-in R functions\n",
    "Great! Now, we will perform simple linear regression on the Cars dataset using built-in R functions instead."
   ]
  },
  {
   "cell_type": "markdown",
   "metadata": {},
   "source": [
    "$\\textbf{Exercise 3.2.1}$: Fit a simple linear regression model using the lm( ) function. Assign the fitted model to the variable cars_fit and print it."
   ]
  },
  {
   "cell_type": "code",
   "execution_count": 100,
   "metadata": {},
   "outputs": [
    {
     "name": "stdout",
     "output_type": "stream",
     "text": [
      "\n",
      "Call:\n",
      "lm(formula = dist ~ speed)\n",
      "\n",
      "Coefficients:\n",
      "(Intercept)        speed  \n",
      "    -17.579        3.932  \n",
      "\n"
     ]
    }
   ],
   "source": [
    "# Define the response and regressor variables\n",
    "dist <- cars$dist\n",
    "speed <- cars$speed\n",
    "\n",
    "# Fit a simple linear regression model\n",
    "cars_fit<-lm(dist~speed)\n",
    "print(cars_fit)"
   ]
  },
  {
   "cell_type": "markdown",
   "metadata": {},
   "source": [
    "$\\textbf{Exercise 3.2.2}$: Find the 95% confidence intervals for regression coefficients $\\beta_0$ and $\\beta_1$ by using the confint( ) function. "
   ]
  },
  {
   "cell_type": "code",
   "execution_count": 101,
   "metadata": {},
   "outputs": [
    {
     "data": {
      "text/html": [
       "<table>\n",
       "<thead><tr><th></th><th scope=col>2.5 %</th><th scope=col>97.5 %</th></tr></thead>\n",
       "<tbody>\n",
       "\t<tr><th scope=row>(Intercept)</th><td>-31.167850</td><td>-3.990340 </td></tr>\n",
       "\t<tr><th scope=row>speed</th><td>  3.096964</td><td> 4.767853 </td></tr>\n",
       "</tbody>\n",
       "</table>\n"
      ],
      "text/latex": [
       "\\begin{tabular}{r|ll}\n",
       "  & 2.5 \\% & 97.5 \\%\\\\\n",
       "\\hline\n",
       "\t(Intercept) & -31.167850 & -3.990340 \\\\\n",
       "\tspeed &   3.096964 &  4.767853 \\\\\n",
       "\\end{tabular}\n"
      ],
      "text/markdown": [
       "\n",
       "| <!--/--> | 2.5 % | 97.5 % |\n",
       "|---|---|---|\n",
       "| (Intercept) | -31.167850 | -3.990340  |\n",
       "| speed |   3.096964 |  4.767853  |\n",
       "\n"
      ],
      "text/plain": [
       "            2.5 %      97.5 %   \n",
       "(Intercept) -31.167850 -3.990340\n",
       "speed         3.096964  4.767853"
      ]
     },
     "metadata": {},
     "output_type": "display_data"
    }
   ],
   "source": [
    "# Obtain the 95% confidence intervals for the regression parameters.\n",
    "confint(cars_fit,level=0.95)"
   ]
  },
  {
   "cell_type": "markdown",
   "metadata": {},
   "source": [
    "$\\textbf{Exercise 3.2.3}$: \n",
    "Once again, predict the stopping distance of the car when its speed is 13.7 mph and show the $\\textbf{95% confidence interval for the mean response}$. \n",
    "\n",
    "Hint:\n",
    "- First, create a dataframe containing the new data for a single prediction and assign it to the variable new_speed.\n",
    "- Make the prediction using the predict( ) function and assign the prediction to $\\textbf{dist_pred_confint}$ and print it. \n",
    "- Remember to set the correct string value under the interval argument to calculate the confidence interval and the correct level as well!"
   ]
  },
  {
   "cell_type": "code",
   "execution_count": 112,
   "metadata": {},
   "outputs": [
    {
     "name": "stdout",
     "output_type": "stream",
     "text": [
      "       fit      lwr      upr\n",
      "1 36.29491 31.69692 40.89289\n"
     ]
    }
   ],
   "source": [
    "# Obtain prediction together with the 95% confidence interval for the mean response.\n",
    "new_speed<-data.frame(speed=13.7)\n",
    "dist_pred_confint<-predict(cars_fit,new_speed,interval=\"confidence\",level=0.95)\n",
    "print(dist_pred_confint)"
   ]
  },
  {
   "cell_type": "markdown",
   "metadata": {},
   "source": [
    "$\\textbf{Exercise 3.2.4}$:\n",
    "This time, predict the stopping distance of the car when its speed is 13.7 mph and show the $\\textbf{95% prediction interval for the predicted response}$. \n",
    "\n",
    "Hint:\n",
    "- You have already created a dataframe containing the new data for a single prediction and have assigned it the variable new_speed.\n",
    "- Make the prediction using the predict( ) function and assign the prediction to $\\textbf{dist_pred_predint}$ and print it.  \n",
    "- Remember to set the correct string value under the interval argument to calculate the prediction interval and the correct level as well!"
   ]
  },
  {
   "cell_type": "code",
   "execution_count": 113,
   "metadata": {},
   "outputs": [
    {
     "name": "stdout",
     "output_type": "stream",
     "text": [
      "       fit      lwr      upr\n",
      "1 36.29491 5.032199 67.55761\n"
     ]
    }
   ],
   "source": [
    "# Obtain the prediction together with the 95% prediction interval for the predicted response.\n",
    "dist_pred_predint<-predict(cars_fit,new_speed,interval=\"prediction\",level=0.95)\n",
    "print(dist_pred_predint)"
   ]
  },
  {
   "cell_type": "markdown",
   "metadata": {},
   "source": [
    "$\\textbf{Exercise 3.2.5}$: Obtain the residuals resulting from the fitted regression model using the residuals( ) function. Assign it to the variable cars_residuals and print it."
   ]
  },
  {
   "cell_type": "code",
   "execution_count": 115,
   "metadata": {},
   "outputs": [],
   "source": [
    "# Obtain residuals from fitted regression model:\n",
    "cars_residuals<-residuals(cars_fit)"
   ]
  },
  {
   "cell_type": "markdown",
   "metadata": {},
   "source": [
    "$\\textbf{Exercise 3.2.6}$: Construct a residual plot where you plot the residuals against the car speeds."
   ]
  },
  {
   "cell_type": "code",
   "execution_count": 117,
   "metadata": {},
   "outputs": [
    {
     "data": {
      "image/png": "[encoded data removed]",
      "text/plain": [
       "Plot with title \"Residuals vs. speed\""
      ]
     },
     "metadata": {},
     "output_type": "display_data"
    }
   ],
   "source": [
    "# Construct a residual plot (residuals vs speed):\n",
    "plot( speed,cars_residuals, main = \"Residuals vs. speed\", xlab = \"speed\", ylab = \"Residuals\")\n",
    "abline(h=0)"
   ]
  },
  {
   "cell_type": "markdown",
   "metadata": {},
   "source": [
    "$\\textbf{Exercise 3.2.7}$: Observe the residual plot that you have just constructed. Do the residuals look independent? (Remember to start your comment using the # symbol)"
   ]
  },
  {
   "cell_type": "code",
   "execution_count": 69,
   "metadata": {},
   "outputs": [],
   "source": [
    "# Comment on whether the residuals look independent.\n",
    "#The residuals look independence since they are random with no specific pattern.\n"
   ]
  },
  {
   "cell_type": "markdown",
   "metadata": {},
   "source": [
    "$\\textbf{Exercise 3.2.8}$: Do the residuals have a constant variance throughout the plot? (Remember to start your comment using the # symbol)"
   ]
  },
  {
   "cell_type": "code",
   "execution_count": 70,
   "metadata": {},
   "outputs": [],
   "source": [
    "# Comment on the variance of the residuals.\n",
    "#Since the residuals are scattered around zero, the errors have constant variance."
   ]
  },
  {
   "cell_type": "markdown",
   "metadata": {},
   "source": [
    "### 3.3 Performing simple linear regression using built-in R functions (With transformations!)\n",
    "When the residuals do not fulfill the model assumptions (i.e. the errors are not normally distributed, the residuals do not look independent, the residuals do not have a homogenous variance), performing a transformation on the response variable might help resolve these issues.\n",
    "\n",
    "Here, we carry out a square root transformation on the response variable (stopping distance of the car). The re-defined variables have already been coded for you below:"
   ]
  },
  {
   "cell_type": "code",
   "execution_count": 118,
   "metadata": {},
   "outputs": [],
   "source": [
    "sqrt_dist <- sqrt(cars$dist)\n",
    "speed <- cars$speed"
   ]
  },
  {
   "cell_type": "markdown",
   "metadata": {},
   "source": [
    "$\\textbf{Exercise 3.3.1}$: Plot a histogram for the transformed response variable (sqrt_dist). (Hint: Remember that we need to make use of the hist( ) function.)"
   ]
  },
  {
   "cell_type": "code",
   "execution_count": 119,
   "metadata": {},
   "outputs": [
    {
     "data": {
      "image/png": "[encoded data removed]",
      "text/plain": [
       "Plot with title \"Histogram of sqrt_dist\""
      ]
     },
     "metadata": {},
     "output_type": "display_data"
    }
   ],
   "source": [
    "# Draw a histogram for the variable sqrt_dist.\n",
    "hist(sqrt_dist)"
   ]
  },
  {
   "cell_type": "markdown",
   "metadata": {},
   "source": [
    "$\\textbf{Exercise 3.3.2}$: Comment on the histogram that you plotted in $\\textbf{Exercise 3.3.1}$. (Remember to start your comment using the # symbol)"
   ]
  },
  {
   "cell_type": "code",
   "execution_count": 73,
   "metadata": {},
   "outputs": [],
   "source": [
    "# Comment on the histogram for sqrt_dist.\n",
    "#The histogram is uniform shaped indicating data is very consistent and hence multimodal."
   ]
  },
  {
   "cell_type": "markdown",
   "metadata": {},
   "source": [
    "We will now conduct the simple linear regression analysis again using the transformed response variable sqrt_dist instead."
   ]
  },
  {
   "cell_type": "markdown",
   "metadata": {},
   "source": [
    "$\\textbf{Exercise 3.3.3}$: Fit a simple linear regression model using the variable sqrt_dist and the lm( ) function. Assign the new fitted model to the variable cars_new_fit and print it."
   ]
  },
  {
   "cell_type": "code",
   "execution_count": 120,
   "metadata": {},
   "outputs": [
    {
     "name": "stdout",
     "output_type": "stream",
     "text": [
      "\n",
      "Call:\n",
      "lm(formula = sqrt_dist ~ speed)\n",
      "\n",
      "Coefficients:\n",
      "(Intercept)        speed  \n",
      "     1.2771       0.3224  \n",
      "\n"
     ]
    }
   ],
   "source": [
    "# Fit a simple linear regression model\n",
    "cars_new_fit<-lm(sqrt_dist~speed)\n",
    "print(cars_new_fit)"
   ]
  },
  {
   "cell_type": "markdown",
   "metadata": {},
   "source": [
    "$\\textbf{Exercise 3.3.4}$: Find the new 95% confidence intervals for the regression coefficients $\\beta_0$ and $\\beta_1$ by using the confint( ) function. "
   ]
  },
  {
   "cell_type": "code",
   "execution_count": 121,
   "metadata": {},
   "outputs": [
    {
     "data": {
      "text/html": [
       "<table>\n",
       "<thead><tr><th></th><th scope=col>2.5 %</th><th scope=col>97.5 %</th></tr></thead>\n",
       "<tbody>\n",
       "\t<tr><th scope=row>(Intercept)</th><td>0.3030143</td><td>2.2510862</td></tr>\n",
       "\t<tr><th scope=row>speed</th><td>0.2625282</td><td>0.3822968</td></tr>\n",
       "</tbody>\n",
       "</table>\n"
      ],
      "text/latex": [
       "\\begin{tabular}{r|ll}\n",
       "  & 2.5 \\% & 97.5 \\%\\\\\n",
       "\\hline\n",
       "\t(Intercept) & 0.3030143 & 2.2510862\\\\\n",
       "\tspeed & 0.2625282 & 0.3822968\\\\\n",
       "\\end{tabular}\n"
      ],
      "text/markdown": [
       "\n",
       "| <!--/--> | 2.5 % | 97.5 % |\n",
       "|---|---|---|\n",
       "| (Intercept) | 0.3030143 | 2.2510862 |\n",
       "| speed | 0.2625282 | 0.3822968 |\n",
       "\n"
      ],
      "text/plain": [
       "            2.5 %     97.5 %   \n",
       "(Intercept) 0.3030143 2.2510862\n",
       "speed       0.2625282 0.3822968"
      ]
     },
     "metadata": {},
     "output_type": "display_data"
    }
   ],
   "source": [
    "# Obtain the new 95% confidence intervals for the regression parameters.\n",
    "confint(cars_new_fit,level=0.95)"
   ]
  },
  {
   "cell_type": "markdown",
   "metadata": {},
   "source": [
    "$\\textbf{Exercise 3.3.5}$: Obtain the residuals resulting from the new fitted regression model using the residuals( ) function. Assign it to the variable cars_new_residuals and print it."
   ]
  },
  {
   "cell_type": "code",
   "execution_count": 123,
   "metadata": {},
   "outputs": [
    {
     "name": "stdout",
     "output_type": "stream",
     "text": [
      "         1          2          3          4          5          6          7 \n",
      "-1.1524867  0.5955774 -1.5339378  1.1564780  0.1436497 -1.0164851 -0.2585346 \n",
      "         8          9         10         11         12         13         14 \n",
      " 0.5978442  1.3297766 -0.7004822  0.4679148 -1.4043429 -0.6738644 -0.2470208 \n",
      "        15         16         17         18         19         20         21 \n",
      " 0.1455023 -0.3693933  0.3625391  0.3625391  1.3139172 -0.6918058  0.2091747 \n",
      "        22         23         24         25         26         27         28 \n",
      " 1.9551414  3.1534466 -1.6411019 -1.0142183  1.2352314 -0.7787961 -0.1110950 \n",
      "        29         30         31         32         33         34         35 \n",
      "-1.1012086 -0.4335075  0.3130050 -0.5997347  0.4028394  1.6373225  2.0846760 \n",
      "        36         37         38         39         40         41         42 \n",
      "-1.4028879 -0.6205579  0.8433234 -2.0684461 -0.7970971 -0.5141978 -0.2419856 \n",
      "        43         44         45         46         47         48         49 \n",
      " 0.2746996 -0.2460870 -1.3440687 -0.6483501  0.5767127  0.6287004  1.9395008 \n",
      "        50 \n",
      "-0.1178184 \n"
     ]
    }
   ],
   "source": [
    "# Obtain residuals from new fitted regression model:\n",
    "cars_new_residuals<-residuals(cars_new_fit)\n",
    "print(cars_new_residuals)"
   ]
  },
  {
   "cell_type": "markdown",
   "metadata": {},
   "source": [
    "$\\textbf{Exercise 3.3.6}$: Construct a new residual plot where you plot the new residuals against the car speeds."
   ]
  },
  {
   "cell_type": "code",
   "execution_count": 124,
   "metadata": {},
   "outputs": [
    {
     "data": {
      "image/png": "[encoded data removed]",
      "text/plain": [
       "Plot with title \"cars_new_residuals vs. speed\""
      ]
     },
     "metadata": {},
     "output_type": "display_data"
    }
   ],
   "source": [
    "# Construct a residual plot (residuals vs speed):\n",
    "plot( speed,cars_new_residuals, main = \"cars_new_residuals vs. speed\", xlab = \"speed\", ylab = \"cars_new_residuals\")\n",
    "abline(h=0)"
   ]
  },
  {
   "cell_type": "markdown",
   "metadata": {},
   "source": [
    "$\\textbf{Exercise 3.3.7}$: Observe the residual plot that you have just constructed. Do the residuals look independent? (Remember to start your comment using the # symbol)"
   ]
  },
  {
   "cell_type": "code",
   "execution_count": 78,
   "metadata": {},
   "outputs": [],
   "source": [
    "# Comment on whether the new residuals look independent.\n",
    "#The residuals tend to be more random and hence independent.\n"
   ]
  },
  {
   "cell_type": "markdown",
   "metadata": {},
   "source": [
    "$\\textbf{Exercise 3.3.8}$: Do the residuals have a constant variance throughout the plot? (Remember to start your comment using the # symbol)"
   ]
  },
  {
   "cell_type": "code",
   "execution_count": 79,
   "metadata": {},
   "outputs": [],
   "source": [
    "# Comment on the variance of the new residuals.\n",
    "#The variance is not constant since most residuals are scattered away from zero."
   ]
  },
  {
   "cell_type": "markdown",
   "metadata": {},
   "source": [
    "$\\textbf{Exercise 3.3.9}$: Now, we will find out if our fitted model is statistically significant. Compute the summary of the new fitted model by using the summary( ) function."
   ]
  },
  {
   "cell_type": "code",
   "execution_count": 125,
   "metadata": {},
   "outputs": [
    {
     "data": {
      "text/plain": [
       "\n",
       "Call:\n",
       "lm(formula = sqrt_dist ~ speed)\n",
       "\n",
       "Residuals:\n",
       "    Min      1Q  Median      3Q     Max \n",
       "-2.0684 -0.6983 -0.1799  0.5909  3.1534 \n",
       "\n",
       "Coefficients:\n",
       "            Estimate Std. Error t value Pr(>|t|)    \n",
       "(Intercept)  1.27705    0.48444   2.636   0.0113 *  \n",
       "speed        0.32241    0.02978  10.825 1.77e-14 ***\n",
       "---\n",
       "Signif. codes:  0 '***' 0.001 '**' 0.01 '*' 0.05 '.' 0.1 ' ' 1\n",
       "\n",
       "Residual standard error: 1.102 on 48 degrees of freedom\n",
       "Multiple R-squared:  0.7094,\tAdjusted R-squared:  0.7034 \n",
       "F-statistic: 117.2 on 1 and 48 DF,  p-value: 1.773e-14\n"
      ]
     },
     "metadata": {},
     "output_type": "display_data"
    }
   ],
   "source": [
    "# Summary of the new fitted model:\n",
    "summary(cars_new_fit)"
   ]
  },
  {
   "cell_type": "markdown",
   "metadata": {},
   "source": [
    "#### Hypothesis testing on the slope using a t-test:\n",
    "Firstly, let us set a 0.05 level of significance.\n",
    "\n",
    "The hypotheses are $H_0: \\beta_1 = 0$ and $H_1: \\beta_1 \\neq 0$. "
   ]
  },
  {
   "cell_type": "markdown",
   "metadata": {},
   "source": [
    "$\\textbf{Exercise 3.3.10}$: What is the P-value for this hypothesis test? (Remember to start your comment using the # symbol)"
   ]
  },
  {
   "cell_type": "code",
   "execution_count": 81,
   "metadata": {},
   "outputs": [],
   "source": [
    "# Find the P-value.\n",
    "# 1.773e-14"
   ]
  },
  {
   "cell_type": "markdown",
   "metadata": {},
   "source": [
    "$\\textbf{Exercise 3.3.11}$: What is the conclusion made for this hypothesis test? (Remember to start your comment using the # symbol)"
   ]
  },
  {
   "cell_type": "code",
   "execution_count": 82,
   "metadata": {},
   "outputs": [],
   "source": [
    "# State conclusion resulting from the hypothesis test\n",
    "# Since the p-value is less than 0.05, we reject the null hypothesis and conclude that 𝛽1≠0"
   ]
  },
  {
   "cell_type": "markdown",
   "metadata": {},
   "source": [
    "$\\textbf{Exercise 3.3.12}$: Interpret the (multiple) R-squared value. Does it indicate a good model fit?  (Remember to start your comment using the # symbol)"
   ]
  },
  {
   "cell_type": "code",
   "execution_count": 83,
   "metadata": {},
   "outputs": [],
   "source": [
    "# Interpret and comment on the R^2 value:\n",
    "# The R^2 of 0.7094 indicates that 70% of the data fits the regression model well hence indicating goodness of fit."
   ]
  },
  {
   "cell_type": "markdown",
   "metadata": {},
   "source": [
    "## 4. Multiple Linear Regression using the Boston Housing Dataset\n",
    "\n",
    "In this part of the worksheet we will work with the Boston Housing dataset again. Here's a recap on the information that this dataset contains regarding the housing values in the suburbs of Boston. \n",
    "\n",
    "The Boston data frame has 506 rows and 14 columns. This data frame contains the following columns:\n",
    "\n",
    "crim - per capita crime rate by town.  \n",
    "zn - proportion of residential land zoned for lots over 25,000 sq.ft.  \n",
    "indus - proportion of non-retail business acres per town.  \n",
    "chas - Charles River dummy variable (= 1 if tract bounds river; 0 otherwise).  \n",
    "nox - nitrogen oxides concentration (parts per 10 million).  \n",
    "rm - average number of rooms per dwelling.  \n",
    "age - proportion of owner-occupied units built prior to 1940.  \n",
    "dis - weighted mean of distances to five Boston employment centres.  \n",
    "rad - index of accessibility to radial highways.  \n",
    "tax - full-value property-tax rate per \\\\$10,000.  \n",
    "ptratio - pupil-teacher ratio by town.  \n",
    "black - 1000(Bk - 0.63)^2 where Bk is the proportion of blacks by town.  \n",
    "lstat - lower status of the population (percent).  \n",
    "medv - median value of owner-occupied homes in \\\\$1000s.\n",
    "\n",
    "In the previous computer lab worksheet, we did some exploratory data analysis on the dataset using the concepts taught over the first three weeks. Now, let us take a peek into how multiple linear regression can be performed for such a dataset. For the purposes of this worksheet, we have selected just a few regressors out of the total possible set to fit a multiple linear regression model onto the data.\n",
    "\n",
    "Hence, the response variable here is medv while the regressors chosen are rm, lstat and age."
   ]
  },
  {
   "cell_type": "code",
   "execution_count": 146,
   "metadata": {},
   "outputs": [
    {
     "name": "stderr",
     "output_type": "stream",
     "text": [
      "Installing package into 'C:/Users/Rodgers/Documents/R/win-library/3.6'\n",
      "(as 'lib' is unspecified)\n",
      "Warning message:\n",
      "\"package 'MASS' is in use and will not be installed\"The following objects are masked from Boston (pos = 3):\n",
      "\n",
      "    age, black, chas, crim, dis, indus, lstat, medv, nox, ptratio, rad,\n",
      "    rm, tax, zn\n",
      "\n",
      "The following objects are masked from Boston (pos = 4):\n",
      "\n",
      "    age, black, chas, crim, dis, indus, lstat, medv, nox, ptratio, rad,\n",
      "    rm, tax, zn\n",
      "\n"
     ]
    },
    {
     "name": "stdout",
     "output_type": "stream",
     "text": [
      "\n",
      "Call:\n",
      "lm(formula = medv ~ rm + lstat + age)\n",
      "\n",
      "Coefficients:\n",
      "(Intercept)           rm        lstat          age  \n",
      "  -1.175311     5.019133    -0.668513     0.009091  \n",
      "\n"
     ]
    }
   ],
   "source": [
    "# Load the required library and attach the dataset:\n",
    "install.packages(\"MASS\")\n",
    "library(MASS)\n",
    "attach(Boston)\n",
    "\n",
    "# Fit a multiple linear regression model onto the data\n",
    "boston_fit <- lm(medv ~ rm + lstat + age)\n",
    "print(boston_fit)"
   ]
  },
  {
   "cell_type": "code",
   "execution_count": 147,
   "metadata": {},
   "outputs": [
    {
     "name": "stdout",
     "output_type": "stream",
     "text": [
      "         1          2          3          4          5          6          7 \n",
      "-87.538071  -8.121827 -29.225888 -43.121827  34.670051 -64.746193  17.461929 \n",
      "         8          9         10         11         12 \n",
      " 11.878173  55.253807  52.461929  55.774112   5.253807 \n"
     ]
    }
   ],
   "source": [
    "ex_residuals <- residuals(ex_fit)\n",
    "print(ex_residuals)"
   ]
  },
  {
   "cell_type": "code",
   "execution_count": 142,
   "metadata": {},
   "outputs": [
    {
     "name": "stdout",
     "output_type": "stream",
     "text": [
      "         1          2          3          4          5          6          7 \n",
      "-87.538071  -8.121827 -29.225888 -43.121827  34.670051 -64.746193  17.461929 \n",
      "         8          9         10         11         12 \n",
      " 11.878173  55.253807  52.461929  55.774112   5.253807 \n"
     ]
    }
   ],
   "source": [
    "ex_residuals <- residuals(ex_fit)\n",
    "print(ex_residuals)"
   ]
  },
  {
   "cell_type": "code",
   "execution_count": 129,
   "metadata": {},
   "outputs": [
    {
     "name": "stdout",
     "output_type": "stream",
     "text": [
      "         1          2          3          4          5          6          7 \n",
      "-87.538071  -8.121827 -29.225888 -43.121827  34.670051 -64.746193  17.461929 \n",
      "         8          9         10         11         12 \n",
      " 11.878173  55.253807  52.461929  55.774112   5.253807 \n"
     ]
    }
   ],
   "source": [
    "ex_residuals <- residuals(ex_fit)\n",
    "print(ex_residuals)"
   ]
  },
  {
   "cell_type": "markdown",
   "metadata": {},
   "source": [
    "Now that we have fitted a multiple linear regression model onto the data, let us obtain the summary of the fitted model."
   ]
  },
  {
   "cell_type": "code",
   "execution_count": 148,
   "metadata": {},
   "outputs": [
    {
     "data": {
      "text/plain": [
       "\n",
       "Call:\n",
       "lm(formula = medv ~ rm + lstat + age)\n",
       "\n",
       "Residuals:\n",
       "    Min      1Q  Median      3Q     Max \n",
       "-18.210  -3.467  -1.053   1.957  27.500 \n",
       "\n",
       "Coefficients:\n",
       "             Estimate Std. Error t value Pr(>|t|)    \n",
       "(Intercept) -1.175311   3.181924  -0.369    0.712    \n",
       "rm           5.019133   0.454306  11.048   <2e-16 ***\n",
       "lstat       -0.668513   0.054357 -12.298   <2e-16 ***\n",
       "age          0.009091   0.011215   0.811    0.418    \n",
       "---\n",
       "Signif. codes:  0 '***' 0.001 '**' 0.01 '*' 0.05 '.' 0.1 ' ' 1\n",
       "\n",
       "Residual standard error: 5.542 on 502 degrees of freedom\n",
       "Multiple R-squared:  0.639,\tAdjusted R-squared:  0.6369 \n",
       "F-statistic: 296.2 on 3 and 502 DF,  p-value: < 2.2e-16\n"
      ]
     },
     "metadata": {},
     "output_type": "display_data"
    }
   ],
   "source": [
    "#Summary of the fitted regression model:\n",
    "summary(boston_fit)"
   ]
  },
  {
   "cell_type": "markdown",
   "metadata": {},
   "source": [
    "$\\textbf{Exercise 4.1}$: Is the slope parameter for the variable rm statistically significant (i.e. the slope parameter is significantly different from zero)? (Remember to start your comment using the # symbol)"
   ]
  },
  {
   "cell_type": "code",
   "execution_count": 86,
   "metadata": {},
   "outputs": [],
   "source": [
    "# Comment on whether the slope parameter for rm is statistically significant.\n",
    "#the variable rm is statistically significant since its p-value is less than 0.05"
   ]
  },
  {
   "cell_type": "markdown",
   "metadata": {},
   "source": [
    "$\\textbf{Exercise 4.2}$: Is the slope parameter for the variable lstat statistically significant (i.e. the slope parameter is significantly different from zero)? (Remember to start your comment using the # symbol)"
   ]
  },
  {
   "cell_type": "code",
   "execution_count": 87,
   "metadata": {},
   "outputs": [],
   "source": [
    "# Comment on whether the slope parameter for lstat is statistically significant.\n",
    "#the variable lstat is statistically significant since its p-value is less than 0.05"
   ]
  },
  {
   "cell_type": "markdown",
   "metadata": {},
   "source": [
    "$\\textbf{Exercise 4.3}$: Is the slope parameter for the variable age statistically significant (i.e. the slope parameter is significantly different from zero)? (Remember to start your comment using the # symbol)"
   ]
  },
  {
   "cell_type": "code",
   "execution_count": 88,
   "metadata": {},
   "outputs": [],
   "source": [
    "# Comment on whether the slope parameter for age is statistically significant.\n",
    "#the variable age is not statistically significant since its p-value is greater than 0.05"
   ]
  },
  {
   "cell_type": "markdown",
   "metadata": {},
   "source": [
    "$\\textbf{Exercise 4.4}$: Interpret the multiple R-squared value. Does it indicate a good model fit?"
   ]
  },
  {
   "cell_type": "code",
   "execution_count": 89,
   "metadata": {},
   "outputs": [],
   "source": [
    "# Interpret and comment on the R^2 value:\n",
    "# The R^2 0.639 shows that 64% of the data fits the regression model hence this is a goodness of fit."
   ]
  },
  {
   "cell_type": "markdown",
   "metadata": {},
   "source": [
    "Now, let's make a prediction on the median value of a house using the fitted model that we have! A dataframe containing the values of the regressor variables which we wish to use to make our prediction has been defined for you below:"
   ]
  },
  {
   "cell_type": "code",
   "execution_count": 149,
   "metadata": {},
   "outputs": [],
   "source": [
    "#Creating dataframe for a single prediction\n",
    "new_values <- data.frame(rm = 5, lstat = 12, age = 50)"
   ]
  },
  {
   "cell_type": "markdown",
   "metadata": {},
   "source": [
    "$\\textbf{Exercise 4.5}$: \n",
    "Predict the median value of the house using the new data given by the variable new_values. Also, show the 95% prediction interval for the predicted response. \n",
    "\n",
    "Hint:\n",
    "- A dataframe for containing the new data for a single prediction has been created for you and has been assigned to the variable new_values.\n",
    "- Make the prediction using the predict( ) function and assign the prediction to $\\textbf{boston_pred_predint}$ and print it.  \n",
    "- Remember to set the correct string value under the interval argument to calculate the prediction interval and the correct level as well!"
   ]
  },
  {
   "cell_type": "code",
   "execution_count": 150,
   "metadata": {},
   "outputs": [
    {
     "name": "stdout",
     "output_type": "stream",
     "text": [
      "       fit      lwr      upr\n",
      "1 16.35277 5.391265 27.31427\n"
     ]
    }
   ],
   "source": [
    "# Obtain the prediction together with the 95% prediction interval for the predicted response.\n",
    "boston_pred_predint<-predict(boston_fit,new_values ,interval=\"prediction\",level=0.95)\n",
    "print(boston_pred_predint)"
   ]
  },
  {
   "cell_type": "markdown",
   "metadata": {},
   "source": [
    "This concludes the worksheet for Computer lab 3. Remember to submit your completed worksheets (in HTML format) via email to your computer lab tutors!"
   ]
  }
 ],
 "metadata": {
  "kernelspec": {
   "display_name": "R",
   "language": "R",
   "name": "ir"
  },
  "language_info": {
   "codemirror_mode": "r",
   "file_extension": ".r",
   "mimetype": "text/x-r-source",
   "name": "R",
   "pygments_lexer": "r",
   "version": "3.6.1"
  }
 },
 "nbformat": 4,
 "nbformat_minor": 4
}
