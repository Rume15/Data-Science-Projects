{
 "cells": [
  {
   "cell_type": "markdown",
   "metadata": {},
   "source": [
    "## Question 2 "
   ]
  },
  {
   "cell_type": "code",
   "execution_count": 298,
   "metadata": {},
   "outputs": [],
   "source": [
    "# Load the required libraries\n",
    "import pandas as pd\n",
    "import numpy as np\n",
    "from pandas import ExcelWriter\n",
    "from pandas import ExcelFile\n"
   ]
  },
  {
   "cell_type": "code",
   "execution_count": 299,
   "metadata": {},
   "outputs": [
    {
     "data": {
      "text/html": [
       "<div>\n",
       "<style scoped>\n",
       "    .dataframe tbody tr th:only-of-type {\n",
       "        vertical-align: middle;\n",
       "    }\n",
       "\n",
       "    .dataframe tbody tr th {\n",
       "        vertical-align: top;\n",
       "    }\n",
       "\n",
       "    .dataframe thead th {\n",
       "        text-align: right;\n",
       "    }\n",
       "</style>\n",
       "<table border=\"1\" class=\"dataframe\">\n",
       "  <thead>\n",
       "    <tr style=\"text-align: right;\">\n",
       "      <th></th>\n",
       "      <th>x1</th>\n",
       "      <th>y1</th>\n",
       "      <th>x2</th>\n",
       "      <th>y2</th>\n",
       "      <th>x3</th>\n",
       "      <th>y3</th>\n",
       "      <th>x4</th>\n",
       "      <th>y4</th>\n",
       "    </tr>\n",
       "  </thead>\n",
       "  <tbody>\n",
       "    <tr>\n",
       "      <th>0</th>\n",
       "      <td>10</td>\n",
       "      <td>8.04</td>\n",
       "      <td>10</td>\n",
       "      <td>9.14</td>\n",
       "      <td>10</td>\n",
       "      <td>7.46</td>\n",
       "      <td>8</td>\n",
       "      <td>6.58</td>\n",
       "    </tr>\n",
       "    <tr>\n",
       "      <th>1</th>\n",
       "      <td>8</td>\n",
       "      <td>6.95</td>\n",
       "      <td>8</td>\n",
       "      <td>8.14</td>\n",
       "      <td>8</td>\n",
       "      <td>6.77</td>\n",
       "      <td>8</td>\n",
       "      <td>5.76</td>\n",
       "    </tr>\n",
       "    <tr>\n",
       "      <th>2</th>\n",
       "      <td>13</td>\n",
       "      <td>7.58</td>\n",
       "      <td>13</td>\n",
       "      <td>8.74</td>\n",
       "      <td>13</td>\n",
       "      <td>12.74</td>\n",
       "      <td>8</td>\n",
       "      <td>7.71</td>\n",
       "    </tr>\n",
       "    <tr>\n",
       "      <th>3</th>\n",
       "      <td>9</td>\n",
       "      <td>8.81</td>\n",
       "      <td>9</td>\n",
       "      <td>8.77</td>\n",
       "      <td>9</td>\n",
       "      <td>7.11</td>\n",
       "      <td>8</td>\n",
       "      <td>8.84</td>\n",
       "    </tr>\n",
       "    <tr>\n",
       "      <th>4</th>\n",
       "      <td>11</td>\n",
       "      <td>8.33</td>\n",
       "      <td>11</td>\n",
       "      <td>9.26</td>\n",
       "      <td>11</td>\n",
       "      <td>7.81</td>\n",
       "      <td>8</td>\n",
       "      <td>8.47</td>\n",
       "    </tr>\n",
       "    <tr>\n",
       "      <th>5</th>\n",
       "      <td>14</td>\n",
       "      <td>9.96</td>\n",
       "      <td>14</td>\n",
       "      <td>8.10</td>\n",
       "      <td>14</td>\n",
       "      <td>8.84</td>\n",
       "      <td>8</td>\n",
       "      <td>7.04</td>\n",
       "    </tr>\n",
       "    <tr>\n",
       "      <th>6</th>\n",
       "      <td>6</td>\n",
       "      <td>7.24</td>\n",
       "      <td>6</td>\n",
       "      <td>6.13</td>\n",
       "      <td>6</td>\n",
       "      <td>6.08</td>\n",
       "      <td>8</td>\n",
       "      <td>5.25</td>\n",
       "    </tr>\n",
       "    <tr>\n",
       "      <th>7</th>\n",
       "      <td>4</td>\n",
       "      <td>4.26</td>\n",
       "      <td>4</td>\n",
       "      <td>3.10</td>\n",
       "      <td>4</td>\n",
       "      <td>5.39</td>\n",
       "      <td>19</td>\n",
       "      <td>12.50</td>\n",
       "    </tr>\n",
       "    <tr>\n",
       "      <th>8</th>\n",
       "      <td>12</td>\n",
       "      <td>10.84</td>\n",
       "      <td>12</td>\n",
       "      <td>9.13</td>\n",
       "      <td>12</td>\n",
       "      <td>8.15</td>\n",
       "      <td>8</td>\n",
       "      <td>5.56</td>\n",
       "    </tr>\n",
       "    <tr>\n",
       "      <th>9</th>\n",
       "      <td>7</td>\n",
       "      <td>4.82</td>\n",
       "      <td>7</td>\n",
       "      <td>7.26</td>\n",
       "      <td>7</td>\n",
       "      <td>6.42</td>\n",
       "      <td>8</td>\n",
       "      <td>7.91</td>\n",
       "    </tr>\n",
       "    <tr>\n",
       "      <th>10</th>\n",
       "      <td>5</td>\n",
       "      <td>5.68</td>\n",
       "      <td>5</td>\n",
       "      <td>4.74</td>\n",
       "      <td>5</td>\n",
       "      <td>5.73</td>\n",
       "      <td>8</td>\n",
       "      <td>6.89</td>\n",
       "    </tr>\n",
       "  </tbody>\n",
       "</table>\n",
       "</div>"
      ],
      "text/plain": [
       "    x1     y1  x2    y2  x3     y3  x4     y4\n",
       "0   10   8.04  10  9.14  10   7.46   8   6.58\n",
       "1    8   6.95   8  8.14   8   6.77   8   5.76\n",
       "2   13   7.58  13  8.74  13  12.74   8   7.71\n",
       "3    9   8.81   9  8.77   9   7.11   8   8.84\n",
       "4   11   8.33  11  9.26  11   7.81   8   8.47\n",
       "5   14   9.96  14  8.10  14   8.84   8   7.04\n",
       "6    6   7.24   6  6.13   6   6.08   8   5.25\n",
       "7    4   4.26   4  3.10   4   5.39  19  12.50\n",
       "8   12  10.84  12  9.13  12   8.15   8   5.56\n",
       "9    7   4.82   7  7.26   7   6.42   8   7.91\n",
       "10   5   5.68   5  4.74   5   5.73   8   6.89"
      ]
     },
     "execution_count": 299,
     "metadata": {},
     "output_type": "execute_result"
    }
   ],
   "source": [
    "#Load the required Anscombe's dataset \n",
    "Ans=pd.read_excel(\"C:/Users/Rodgers/Desktop/Online Work/AnscombeDataset.xlsx\")\n",
    "Ans"
   ]
  },
  {
   "cell_type": "code",
   "execution_count": 300,
   "metadata": {},
   "outputs": [],
   "source": [
    "import numpy as np\n"
   ]
  },
  {
   "cell_type": "code",
   "execution_count": 301,
   "metadata": {},
   "outputs": [
    {
     "data": {
      "text/plain": [
       "0.81642051634484"
      ]
     },
     "execution_count": 301,
     "metadata": {},
     "output_type": "execute_result"
    }
   ],
   "source": [
    "Ans['x1'].corr(Ans['y1'])#Pearson coefficient of correlation for the 1st dataset"
   ]
  },
  {
   "cell_type": "code",
   "execution_count": 302,
   "metadata": {},
   "outputs": [
    {
     "data": {
      "text/plain": [
       "0.8162365060002427"
      ]
     },
     "execution_count": 302,
     "metadata": {},
     "output_type": "execute_result"
    }
   ],
   "source": [
    "Ans['x2'].corr(Ans['y2'])#Pearson coefficient of correlation for the 2nd dataset"
   ]
  },
  {
   "cell_type": "code",
   "execution_count": 303,
   "metadata": {},
   "outputs": [
    {
     "data": {
      "text/plain": [
       "0.8162867394895982"
      ]
     },
     "execution_count": 303,
     "metadata": {},
     "output_type": "execute_result"
    }
   ],
   "source": [
    "Ans['x3'].corr(Ans['y3'])#Pearson coefficient of correlation for the 3rd dataset"
   ]
  },
  {
   "cell_type": "code",
   "execution_count": 304,
   "metadata": {},
   "outputs": [
    {
     "data": {
      "text/plain": [
       "0.8165214368885028"
      ]
     },
     "execution_count": 304,
     "metadata": {},
     "output_type": "execute_result"
    }
   ],
   "source": [
    "Ans['x4'].corr(Ans['y4'])#Pearson coefficient of correlation for the 4th dataset"
   ]
  },
  {
   "cell_type": "code",
   "execution_count": 305,
   "metadata": {},
   "outputs": [
    {
     "name": "stdout",
     "output_type": "stream",
     "text": [
      "                            OLS Regression Results                            \n",
      "==============================================================================\n",
      "Dep. Variable:                     y4   R-squared:                       0.667\n",
      "Model:                            OLS   Adj. R-squared:                  0.630\n",
      "Method:                 Least Squares   F-statistic:                     18.00\n",
      "Date:                Thu, 14 Oct 2021   Prob (F-statistic):            0.00216\n",
      "Time:                        20:36:22   Log-Likelihood:                -16.833\n",
      "No. Observations:                  11   AIC:                             37.67\n",
      "Df Residuals:                       9   BIC:                             38.46\n",
      "Df Model:                           1                                         \n",
      "Covariance Type:            nonrobust                                         \n",
      "==============================================================================\n",
      "                 coef    std err          t      P>|t|      [0.025      0.975]\n",
      "------------------------------------------------------------------------------\n",
      "Intercept      3.0017      1.124      2.671      0.026       0.459       5.544\n",
      "x4             0.4999      0.118      4.243      0.002       0.233       0.766\n",
      "==============================================================================\n",
      "Omnibus:                        0.555   Durbin-Watson:                   1.662\n",
      "Prob(Omnibus):                  0.758   Jarque-Bera (JB):                0.524\n",
      "Skew:                           0.010   Prob(JB):                        0.769\n",
      "Kurtosis:                       1.931   Cond. No.                         29.1\n",
      "==============================================================================\n",
      "\n",
      "Warnings:\n",
      "[1] Standard Errors assume that the covariance matrix of the errors is correctly specified.\n"
     ]
    },
    {
     "name": "stderr",
     "output_type": "stream",
     "text": [
      "C:\\Users\\Rodgers\\anaconda3\\lib\\site-packages\\scipy\\stats\\stats.py:1535: UserWarning: kurtosistest only valid for n>=20 ... continuing anyway, n=11\n",
      "  \"anyway, n=%i\" % int(n))\n"
     ]
    }
   ],
   "source": [
    "#Calculate the coefficient of determination for each dataset.\n",
    "import numpy as np\n",
    "import statsmodels.api as sm\n",
    "import statsmodels.formula.api as smf\n",
    "Results1=smf.ols('y1~x1',data=Ans).fit()\n",
    "Results2=smf.ols('y2~x2',data=Ans).fit()\n",
    "Results3=smf.ols('y3~x3',data=Ans).fit()\n",
    "Results4=smf.ols('y4~x4',data=Ans).fit()\n",
    "print(Results4.summary())"
   ]
  },
  {
   "cell_type": "code",
   "execution_count": 306,
   "metadata": {},
   "outputs": [
    {
     "data": {
      "text/plain": [
       "array([ 4,  6,  8, 10, 12, 14])"
      ]
     },
     "execution_count": 306,
     "metadata": {},
     "output_type": "execute_result"
    }
   ],
   "source": [
    "x1=np.array([4,6,8,10,12,14])\n",
    "x1"
   ]
  },
  {
   "cell_type": "code",
   "execution_count": 307,
   "metadata": {},
   "outputs": [
    {
     "data": {
      "text/plain": [
       "array([ 4.26,  7.24,  6.95,  8.04, 10.84,  9.96])"
      ]
     },
     "execution_count": 307,
     "metadata": {},
     "output_type": "execute_result"
    }
   ],
   "source": [
    "y1=np.array([4.26,7.24,6.95,8.04,10.84,9.96])\n",
    "y1"
   ]
  },
  {
   "cell_type": "code",
   "execution_count": 310,
   "metadata": {},
   "outputs": [
    {
     "ename": "SyntaxError",
     "evalue": "invalid syntax (<ipython-input-310-65f987923719>, line 3)",
     "output_type": "error",
     "traceback": [
      "\u001b[1;36m  File \u001b[1;32m\"<ipython-input-310-65f987923719>\"\u001b[1;36m, line \u001b[1;32m3\u001b[0m\n\u001b[1;33m    beta,SSe,rank,s=\u001b[0m\n\u001b[1;37m                    ^\u001b[0m\n\u001b[1;31mSyntaxError\u001b[0m\u001b[1;31m:\u001b[0m invalid syntax\n"
     ]
    }
   ],
   "source": [
    "A=np.ones([len(x1),2])\n",
    "A[:,1]=x\n",
    "beta,SSe,rank,s=\n",
    "np.linalg.lstsq(A,y1)\n",
    "x2="
   ]
  },
  {
   "cell_type": "code",
   "execution_count": null,
   "metadata": {},
   "outputs": [],
   "source": []
  },
  {
   "cell_type": "code",
   "execution_count": 311,
   "metadata": {},
   "outputs": [
    {
     "data": {
      "image/png": "[encoded data removed]",
      "text/plain": [
       "<Figure size 504x360 with 1 Axes>"
      ]
     },
     "metadata": {},
     "output_type": "display_data"
    }
   ],
   "source": [
    "#Plot the residuals for each dataset\n",
    "import seaborn as sns \n",
    "import matplotlib.pyplot as plt\n",
    "plt.style.use('seaborn-whitegrid')\n",
    "fig=plt.figure(figsize=(7,5))\n",
    "sns.residplot(Ans.x1,Ans.y1, color='blue')\n",
    "plt.title('Residual plot for dataset I')\n",
    "plt.xlabel('x1')\n",
    "plt.ylabel('y1');"
   ]
  },
  {
   "cell_type": "code",
   "execution_count": null,
   "metadata": {},
   "outputs": [],
   "source": []
  },
  {
   "cell_type": "code",
   "execution_count": 312,
   "metadata": {},
   "outputs": [
    {
     "data": {
      "image/png": "[encoded data removed]",
      "text/plain": [
       "<Figure size 504x360 with 1 Axes>"
      ]
     },
     "metadata": {},
     "output_type": "display_data"
    }
   ],
   "source": [
    "import seaborn as sns \n",
    "import matplotlib.pyplot as plt\n",
    "plt.style.use('seaborn-whitegrid')\n",
    "fig=plt.figure(figsize=(7,5))\n",
    "sns.residplot(Ans.x2,Ans.y2, color='magenta')\n",
    "plt.title('Residual plot for dataset II')\n",
    "plt.xlabel('x2')\n",
    "plt.ylabel('y2');"
   ]
  },
  {
   "cell_type": "code",
   "execution_count": 313,
   "metadata": {},
   "outputs": [
    {
     "data": {
      "image/png": "[encoded data removed]",
      "text/plain": [
       "<Figure size 504x360 with 1 Axes>"
      ]
     },
     "metadata": {},
     "output_type": "display_data"
    }
   ],
   "source": [
    "import seaborn as sns \n",
    "import matplotlib.pyplot as plt\n",
    "plt.style.use('seaborn-whitegrid')\n",
    "fig=plt.figure(figsize=(7,5))\n",
    "sns.residplot(Ans.x3,Ans.y3, color='deeppink')\n",
    "plt.title('Residual plot for dataset III')\n",
    "plt.xlabel('x3')\n",
    "plt.ylabel('y3');"
   ]
  },
  {
   "cell_type": "code",
   "execution_count": null,
   "metadata": {},
   "outputs": [],
   "source": [
    "import seaborn as sns \n",
    "import matplotlib.pyplot as plt\n",
    "plt.style.use('seaborn-whitegrid')\n",
    "fig=plt.figure(figsize=(7,5))\n",
    "sns.residplot(Ans.x4,Ans.y4, color='darkblue')\n",
    "plt.title('Residual plot for dataset IV')\n",
    "plt.xlabel('x4')\n",
    "plt.ylabel('y4');"
   ]
  },
  {
   "cell_type": "markdown",
   "metadata": {},
   "source": [
    "## Question 3"
   ]
  },
  {
   "cell_type": "code",
   "execution_count": 331,
   "metadata": {},
   "outputs": [
    {
     "data": {
      "text/plain": [
       "0.005"
      ]
     },
     "execution_count": 331,
     "metadata": {},
     "output_type": "execute_result"
    }
   ],
   "source": [
    "import numpy as np\n",
    "import scipy.stats as st\n",
    "y1=np.array([4.26,7.24,6.95,8.04,10.84,9.96])\n",
    "#Assume alpha of 0.05\n",
    "alpha=0.5\n",
    "pval=np.random.beta(1,10,m)\n",
    "#generate p values\n",
    "from scipy import stats\n",
    "Pval=stats.ttest_1samp(y1,10)\n",
    "m=100\n",
    "significant_bonferroni=np.sum(Pval)\n",
    "alpha_corrected=alpha/m\n",
    "alpha_corrected"
   ]
  },
  {
   "cell_type": "code",
   "execution_count": 330,
   "metadata": {},
   "outputs": [
    {
     "data": {
      "text/plain": [
       "array([[ 4],\n",
       "       [ 6],\n",
       "       [ 8],\n",
       "       [10],\n",
       "       [12],\n",
       "       [14]])"
      ]
     },
     "execution_count": 330,
     "metadata": {},
     "output_type": "execute_result"
    }
   ],
   "source": [
    "x1=np.array([4,6,8,10,12,14])\n",
    "x1=x1.reshape((-1,1))\n",
    "x1"
   ]
  },
  {
   "cell_type": "code",
   "execution_count": 295,
   "metadata": {},
   "outputs": [
    {
     "data": {
      "text/plain": [
       "array([ 4.99666667,  6.15066667,  7.30466667,  8.45866667,  9.61266667,\n",
       "       10.76666667])"
      ]
     },
     "execution_count": 295,
     "metadata": {},
     "output_type": "execute_result"
    }
   ],
   "source": [
    "import numpy as np\n",
    "import statsmodels.api as sm\n",
    "from sklearn.linear_model import LinearRegression\n",
    "model=LinearRegression().fit(x1,y1)\n",
    "Fit=model.predict(x1)\n",
    "Fit"
   ]
  },
  {
   "cell_type": "code",
   "execution_count": 339,
   "metadata": {},
   "outputs": [
    {
     "data": {
      "text/plain": [
       "Text(0.5, 1.0, 'benferroni plot')"
      ]
     },
     "execution_count": 339,
     "metadata": {},
     "output_type": "execute_result"
    },
    {
     "data": {
      "image/png": "[encoded data removed]",
      "text/plain": [
       "<Figure size 432x288 with 1 Axes>"
      ]
     },
     "metadata": {},
     "output_type": "display_data"
    }
   ],
   "source": [
    "import seaborn as sns\n",
    "sns.kdeplot(pval,color='red',shade=True,label='raw')\n",
    "ax=sns.kdeplot(pval,color='green',shade=True, label='adjusted')\n",
    "ax.set(xlim=(0,1))\n",
    "plt.title('benferroni plot')"
   ]
  },
  {
   "cell_type": "raw",
   "metadata": {},
   "source": [
    "Results.summary()"
   ]
  },
  {
   "cell_type": "markdown",
   "metadata": {},
   "source": [
    "## Question 4 "
   ]
  },
  {
   "cell_type": "code",
   "execution_count": 335,
   "metadata": {},
   "outputs": [
    {
     "data": {
      "text/html": [
       "<div>\n",
       "<style scoped>\n",
       "    .dataframe tbody tr th:only-of-type {\n",
       "        vertical-align: middle;\n",
       "    }\n",
       "\n",
       "    .dataframe tbody tr th {\n",
       "        vertical-align: top;\n",
       "    }\n",
       "\n",
       "    .dataframe thead th {\n",
       "        text-align: right;\n",
       "    }\n",
       "</style>\n",
       "<table border=\"1\" class=\"dataframe\">\n",
       "  <thead>\n",
       "    <tr style=\"text-align: right;\">\n",
       "      <th></th>\n",
       "      <th>Triceps</th>\n",
       "      <th>Thigh</th>\n",
       "      <th>MidArm</th>\n",
       "      <th>BodyFat</th>\n",
       "      <th>Triceps2</th>\n",
       "    </tr>\n",
       "  </thead>\n",
       "  <tbody>\n",
       "    <tr>\n",
       "      <th>0</th>\n",
       "      <td>19.5</td>\n",
       "      <td>43.1</td>\n",
       "      <td>29.1</td>\n",
       "      <td>11.9</td>\n",
       "      <td>380.25</td>\n",
       "    </tr>\n",
       "    <tr>\n",
       "      <th>1</th>\n",
       "      <td>24.7</td>\n",
       "      <td>49.8</td>\n",
       "      <td>28.2</td>\n",
       "      <td>22.8</td>\n",
       "      <td>610.09</td>\n",
       "    </tr>\n",
       "    <tr>\n",
       "      <th>2</th>\n",
       "      <td>30.7</td>\n",
       "      <td>51.9</td>\n",
       "      <td>37.0</td>\n",
       "      <td>18.7</td>\n",
       "      <td>942.49</td>\n",
       "    </tr>\n",
       "    <tr>\n",
       "      <th>3</th>\n",
       "      <td>29.8</td>\n",
       "      <td>54.3</td>\n",
       "      <td>31.1</td>\n",
       "      <td>20.1</td>\n",
       "      <td>888.04</td>\n",
       "    </tr>\n",
       "    <tr>\n",
       "      <th>4</th>\n",
       "      <td>19.1</td>\n",
       "      <td>42.2</td>\n",
       "      <td>30.9</td>\n",
       "      <td>12.9</td>\n",
       "      <td>364.81</td>\n",
       "    </tr>\n",
       "    <tr>\n",
       "      <th>5</th>\n",
       "      <td>25.6</td>\n",
       "      <td>53.9</td>\n",
       "      <td>23.7</td>\n",
       "      <td>21.7</td>\n",
       "      <td>655.36</td>\n",
       "    </tr>\n",
       "    <tr>\n",
       "      <th>6</th>\n",
       "      <td>31.4</td>\n",
       "      <td>58.5</td>\n",
       "      <td>27.6</td>\n",
       "      <td>27.1</td>\n",
       "      <td>985.96</td>\n",
       "    </tr>\n",
       "    <tr>\n",
       "      <th>7</th>\n",
       "      <td>27.9</td>\n",
       "      <td>52.1</td>\n",
       "      <td>30.6</td>\n",
       "      <td>25.4</td>\n",
       "      <td>778.41</td>\n",
       "    </tr>\n",
       "    <tr>\n",
       "      <th>8</th>\n",
       "      <td>22.1</td>\n",
       "      <td>49.9</td>\n",
       "      <td>23.2</td>\n",
       "      <td>21.3</td>\n",
       "      <td>488.41</td>\n",
       "    </tr>\n",
       "    <tr>\n",
       "      <th>9</th>\n",
       "      <td>25.5</td>\n",
       "      <td>53.5</td>\n",
       "      <td>24.8</td>\n",
       "      <td>19.3</td>\n",
       "      <td>650.25</td>\n",
       "    </tr>\n",
       "    <tr>\n",
       "      <th>10</th>\n",
       "      <td>31.1</td>\n",
       "      <td>56.6</td>\n",
       "      <td>30.0</td>\n",
       "      <td>25.4</td>\n",
       "      <td>967.21</td>\n",
       "    </tr>\n",
       "    <tr>\n",
       "      <th>11</th>\n",
       "      <td>30.4</td>\n",
       "      <td>56.7</td>\n",
       "      <td>28.3</td>\n",
       "      <td>27.2</td>\n",
       "      <td>924.16</td>\n",
       "    </tr>\n",
       "    <tr>\n",
       "      <th>12</th>\n",
       "      <td>18.7</td>\n",
       "      <td>46.5</td>\n",
       "      <td>23.0</td>\n",
       "      <td>11.7</td>\n",
       "      <td>349.69</td>\n",
       "    </tr>\n",
       "    <tr>\n",
       "      <th>13</th>\n",
       "      <td>19.7</td>\n",
       "      <td>44.2</td>\n",
       "      <td>28.6</td>\n",
       "      <td>17.8</td>\n",
       "      <td>388.09</td>\n",
       "    </tr>\n",
       "    <tr>\n",
       "      <th>14</th>\n",
       "      <td>14.6</td>\n",
       "      <td>42.7</td>\n",
       "      <td>21.3</td>\n",
       "      <td>12.8</td>\n",
       "      <td>213.16</td>\n",
       "    </tr>\n",
       "    <tr>\n",
       "      <th>15</th>\n",
       "      <td>29.5</td>\n",
       "      <td>54.4</td>\n",
       "      <td>30.1</td>\n",
       "      <td>23.9</td>\n",
       "      <td>870.25</td>\n",
       "    </tr>\n",
       "    <tr>\n",
       "      <th>16</th>\n",
       "      <td>27.7</td>\n",
       "      <td>55.3</td>\n",
       "      <td>25.7</td>\n",
       "      <td>22.6</td>\n",
       "      <td>767.29</td>\n",
       "    </tr>\n",
       "    <tr>\n",
       "      <th>17</th>\n",
       "      <td>30.2</td>\n",
       "      <td>58.6</td>\n",
       "      <td>24.6</td>\n",
       "      <td>25.4</td>\n",
       "      <td>912.04</td>\n",
       "    </tr>\n",
       "    <tr>\n",
       "      <th>18</th>\n",
       "      <td>22.7</td>\n",
       "      <td>48.2</td>\n",
       "      <td>27.1</td>\n",
       "      <td>14.8</td>\n",
       "      <td>515.29</td>\n",
       "    </tr>\n",
       "    <tr>\n",
       "      <th>19</th>\n",
       "      <td>25.2</td>\n",
       "      <td>51.0</td>\n",
       "      <td>27.5</td>\n",
       "      <td>21.1</td>\n",
       "      <td>635.04</td>\n",
       "    </tr>\n",
       "  </tbody>\n",
       "</table>\n",
       "</div>"
      ],
      "text/plain": [
       "    Triceps  Thigh  MidArm  BodyFat  Triceps2\n",
       "0      19.5   43.1    29.1     11.9    380.25\n",
       "1      24.7   49.8    28.2     22.8    610.09\n",
       "2      30.7   51.9    37.0     18.7    942.49\n",
       "3      29.8   54.3    31.1     20.1    888.04\n",
       "4      19.1   42.2    30.9     12.9    364.81\n",
       "5      25.6   53.9    23.7     21.7    655.36\n",
       "6      31.4   58.5    27.6     27.1    985.96\n",
       "7      27.9   52.1    30.6     25.4    778.41\n",
       "8      22.1   49.9    23.2     21.3    488.41\n",
       "9      25.5   53.5    24.8     19.3    650.25\n",
       "10     31.1   56.6    30.0     25.4    967.21\n",
       "11     30.4   56.7    28.3     27.2    924.16\n",
       "12     18.7   46.5    23.0     11.7    349.69\n",
       "13     19.7   44.2    28.6     17.8    388.09\n",
       "14     14.6   42.7    21.3     12.8    213.16\n",
       "15     29.5   54.4    30.1     23.9    870.25\n",
       "16     27.7   55.3    25.7     22.6    767.29\n",
       "17     30.2   58.6    24.6     25.4    912.04\n",
       "18     22.7   48.2    27.1     14.8    515.29\n",
       "19     25.2   51.0    27.5     21.1    635.04"
      ]
     },
     "execution_count": 335,
     "metadata": {},
     "output_type": "execute_result"
    }
   ],
   "source": [
    "#Load the required dataset \n",
    "Dataset=pd.read_excel(\"C:/Users/Rodgers/Desktop/Online Work/Dataset.xlsx\")\n",
    "Dataset"
   ]
  },
  {
   "cell_type": "code",
   "execution_count": 164,
   "metadata": {},
   "outputs": [
    {
     "data": {
      "text/html": [
       "<div>\n",
       "<style scoped>\n",
       "    .dataframe tbody tr th:only-of-type {\n",
       "        vertical-align: middle;\n",
       "    }\n",
       "\n",
       "    .dataframe tbody tr th {\n",
       "        vertical-align: top;\n",
       "    }\n",
       "\n",
       "    .dataframe thead th {\n",
       "        text-align: right;\n",
       "    }\n",
       "</style>\n",
       "<table border=\"1\" class=\"dataframe\">\n",
       "  <thead>\n",
       "    <tr style=\"text-align: right;\">\n",
       "      <th></th>\n",
       "      <th>Thigh</th>\n",
       "      <th>MidArm</th>\n",
       "      <th>BodyFat</th>\n",
       "    </tr>\n",
       "  </thead>\n",
       "  <tbody>\n",
       "    <tr>\n",
       "      <th>Thigh</th>\n",
       "      <td>27.401158</td>\n",
       "      <td>1.616421</td>\n",
       "      <td>23.470368</td>\n",
       "    </tr>\n",
       "    <tr>\n",
       "      <th>MidArm</th>\n",
       "      <td>1.616421</td>\n",
       "      <td>13.301684</td>\n",
       "      <td>2.652737</td>\n",
       "    </tr>\n",
       "    <tr>\n",
       "      <th>BodyFat</th>\n",
       "      <td>23.470368</td>\n",
       "      <td>2.652737</td>\n",
       "      <td>26.073132</td>\n",
       "    </tr>\n",
       "  </tbody>\n",
       "</table>\n",
       "</div>"
      ],
      "text/plain": [
       "             Thigh     MidArm    BodyFat\n",
       "Thigh    27.401158   1.616421  23.470368\n",
       "MidArm    1.616421  13.301684   2.652737\n",
       "BodyFat  23.470368   2.652737  26.073132"
      ]
     },
     "execution_count": 164,
     "metadata": {},
     "output_type": "execute_result"
    }
   ],
   "source": [
    "Dataset1=Dataset.loc[:,'Thigh':'BodyFat']\n",
    "Dataset1\n",
    "Dataset1.cov()"
   ]
  },
  {
   "cell_type": "code",
   "execution_count": 165,
   "metadata": {},
   "outputs": [
    {
     "data": {
      "text/html": [
       "<div>\n",
       "<style scoped>\n",
       "    .dataframe tbody tr th:only-of-type {\n",
       "        vertical-align: middle;\n",
       "    }\n",
       "\n",
       "    .dataframe tbody tr th {\n",
       "        vertical-align: top;\n",
       "    }\n",
       "\n",
       "    .dataframe thead th {\n",
       "        text-align: right;\n",
       "    }\n",
       "</style>\n",
       "<table border=\"1\" class=\"dataframe\">\n",
       "  <thead>\n",
       "    <tr style=\"text-align: right;\">\n",
       "      <th></th>\n",
       "      <th>Triceps</th>\n",
       "      <th>Thigh</th>\n",
       "      <th>MidArm</th>\n",
       "      <th>BodyFat</th>\n",
       "      <th>Unnamed: 4</th>\n",
       "    </tr>\n",
       "  </thead>\n",
       "  <tbody>\n",
       "    <tr>\n",
       "      <th>Triceps</th>\n",
       "      <td>25.233132</td>\n",
       "      <td>24.292263</td>\n",
       "      <td>8.386737</td>\n",
       "      <td>21.629500</td>\n",
       "      <td>1216.372871</td>\n",
       "    </tr>\n",
       "    <tr>\n",
       "      <th>Thigh</th>\n",
       "      <td>24.292263</td>\n",
       "      <td>27.401158</td>\n",
       "      <td>1.616421</td>\n",
       "      <td>23.470368</td>\n",
       "      <td>1171.720721</td>\n",
       "    </tr>\n",
       "    <tr>\n",
       "      <th>MidArm</th>\n",
       "      <td>8.386737</td>\n",
       "      <td>1.616421</td>\n",
       "      <td>13.301684</td>\n",
       "      <td>2.652737</td>\n",
       "      <td>406.161747</td>\n",
       "    </tr>\n",
       "    <tr>\n",
       "      <th>BodyFat</th>\n",
       "      <td>21.629500</td>\n",
       "      <td>23.470368</td>\n",
       "      <td>2.652737</td>\n",
       "      <td>26.073132</td>\n",
       "      <td>1038.279287</td>\n",
       "    </tr>\n",
       "    <tr>\n",
       "      <th>Unnamed: 4</th>\n",
       "      <td>1216.372871</td>\n",
       "      <td>1171.720721</td>\n",
       "      <td>406.161747</td>\n",
       "      <td>1038.279287</td>\n",
       "      <td>59158.183868</td>\n",
       "    </tr>\n",
       "  </tbody>\n",
       "</table>\n",
       "</div>"
      ],
      "text/plain": [
       "                Triceps        Thigh      MidArm      BodyFat    Unnamed: 4\n",
       "Triceps       25.233132    24.292263    8.386737    21.629500   1216.372871\n",
       "Thigh         24.292263    27.401158    1.616421    23.470368   1171.720721\n",
       "MidArm         8.386737     1.616421   13.301684     2.652737    406.161747\n",
       "BodyFat       21.629500    23.470368    2.652737    26.073132   1038.279287\n",
       "Unnamed: 4  1216.372871  1171.720721  406.161747  1038.279287  59158.183868"
      ]
     },
     "execution_count": 165,
     "metadata": {},
     "output_type": "execute_result"
    }
   ],
   "source": [
    "Dataset.cov()"
   ]
  },
  {
   "cell_type": "code",
   "execution_count": 166,
   "metadata": {},
   "outputs": [],
   "source": [
    "from sklearn.linear_model import LinearRegression\n",
    "model=LinearRegression(fit_intercept=True)\n",
    "y=Dataset.Triceps\n",
    "x=Dataset.Thigh\n"
   ]
  },
  {
   "cell_type": "code",
   "execution_count": 167,
   "metadata": {},
   "outputs": [],
   "source": [
    "x=x.values.reshape(-1,1)\n",
    "y=y.values.reshape(-1,1)\n"
   ]
  },
  {
   "cell_type": "code",
   "execution_count": 168,
   "metadata": {},
   "outputs": [
    {
     "data": {
      "text/plain": [
       "LinearRegression(copy_X=True, fit_intercept=True, n_jobs=None, normalize=False)"
      ]
     },
     "execution_count": 168,
     "metadata": {},
     "output_type": "execute_result"
    }
   ],
   "source": [
    "model.fit(x,y)\n"
   ]
  },
  {
   "cell_type": "code",
   "execution_count": 174,
   "metadata": {},
   "outputs": [
    {
     "data": {
      "text/plain": [
       "Text(0.5, 1.0, 'Triceps.Thigh')"
      ]
     },
     "execution_count": 174,
     "metadata": {},
     "output_type": "execute_result"
    },
    {
     "data": {
      "image/png": "[encoded data removed]",
      "text/plain": [
       "<Figure size 432x288 with 1 Axes>"
      ]
     },
     "metadata": {},
     "output_type": "display_data"
    }
   ],
   "source": [
    "plt.scatter(x,y)\n",
    "plt.plot(x,y_pred,color='magenta')\n",
    "plt.title('Triceps.Thigh')"
   ]
  },
  {
   "cell_type": "code",
   "execution_count": null,
   "metadata": {},
   "outputs": [],
   "source": []
  },
  {
   "cell_type": "code",
   "execution_count": 175,
   "metadata": {},
   "outputs": [],
   "source": [
    "y_pred=model.predict(x)"
   ]
  },
  {
   "cell_type": "code",
   "execution_count": 176,
   "metadata": {},
   "outputs": [
    {
     "name": "stdout",
     "output_type": "stream",
     "text": [
      "[[0.88654148]]\n"
     ]
    }
   ],
   "source": [
    "print(model.coef_)"
   ]
  },
  {
   "cell_type": "code",
   "execution_count": 177,
   "metadata": {},
   "outputs": [
    {
     "name": "stdout",
     "output_type": "stream",
     "text": [
      "[-20.05932769]\n"
     ]
    }
   ],
   "source": [
    "print(model.intercept_)"
   ]
  },
  {
   "cell_type": "code",
   "execution_count": 178,
   "metadata": {},
   "outputs": [],
   "source": [
    "from sklearn.linear_model import LinearRegression\n",
    "model=LinearRegression(fit_intercept=True)\n",
    "y=Dataset.Triceps\n",
    "x=Dataset.MidArm\n",
    "x=x.values.reshape(-1,1)\n",
    "y=y.values.reshape(-1,1)"
   ]
  },
  {
   "cell_type": "code",
   "execution_count": 179,
   "metadata": {},
   "outputs": [
    {
     "data": {
      "text/plain": [
       "LinearRegression(copy_X=True, fit_intercept=True, n_jobs=None, normalize=False)"
      ]
     },
     "execution_count": 179,
     "metadata": {},
     "output_type": "execute_result"
    }
   ],
   "source": [
    "model.fit(x,y)"
   ]
  },
  {
   "cell_type": "code",
   "execution_count": 180,
   "metadata": {},
   "outputs": [],
   "source": [
    "y_pred=model.predict(x)"
   ]
  },
  {
   "cell_type": "code",
   "execution_count": 181,
   "metadata": {},
   "outputs": [
    {
     "data": {
      "text/plain": [
       "Text(0.5, 1.0, 'Triceps.MidArm')"
      ]
     },
     "execution_count": 181,
     "metadata": {},
     "output_type": "execute_result"
    },
    {
     "data": {
      "image/png": "[encoded data removed]",
      "text/plain": [
       "<Figure size 432x288 with 1 Axes>"
      ]
     },
     "metadata": {},
     "output_type": "display_data"
    }
   ],
   "source": [
    "plt.scatter(x,y)\n",
    "plt.plot(x,y_pred,color='magenta')\n",
    "plt.title('Triceps.MidArm')"
   ]
  },
  {
   "cell_type": "code",
   "execution_count": 182,
   "metadata": {},
   "outputs": [
    {
     "name": "stdout",
     "output_type": "stream",
     "text": [
      "[[0.63050188]]\n",
      "[7.8905382]\n"
     ]
    }
   ],
   "source": [
    "print(model.coef_);print(model.intercept_);"
   ]
  },
  {
   "cell_type": "code",
   "execution_count": 183,
   "metadata": {},
   "outputs": [],
   "source": [
    "from sklearn.linear_model import LinearRegression\n",
    "model=LinearRegression(fit_intercept=True)\n",
    "y1=Dataset.Triceps\n",
    "x1=Dataset.BodyFat\n",
    "x1=x1.values.reshape(-1,1)\n",
    "y1=y1.values.reshape(-1,1)"
   ]
  },
  {
   "cell_type": "code",
   "execution_count": 184,
   "metadata": {},
   "outputs": [
    {
     "data": {
      "text/plain": [
       "Text(0.5, 1.0, 'Triceps.BodyArm')"
      ]
     },
     "execution_count": 184,
     "metadata": {},
     "output_type": "execute_result"
    },
    {
     "data": {
      "image/png": "[encoded data removed]",
      "text/plain": [
       "<Figure size 432x288 with 1 Axes>"
      ]
     },
     "metadata": {},
     "output_type": "display_data"
    }
   ],
   "source": [
    "model.fit(x1,y1)\n",
    "y1_pred=model.predict(x1)\n",
    "plt.scatter(x1,y1)\n",
    "plt.plot(x1,y1_pred,color='magenta')\n",
    "plt.title('Triceps.BodyArm')"
   ]
  },
  {
   "cell_type": "code",
   "execution_count": 185,
   "metadata": {},
   "outputs": [
    {
     "name": "stdout",
     "output_type": "stream",
     "text": [
      "[[0.82957047]]\n",
      "[8.55182437]\n"
     ]
    }
   ],
   "source": [
    "print(model.coef_);print(model.intercept_);"
   ]
  },
  {
   "cell_type": "code",
   "execution_count": null,
   "metadata": {},
   "outputs": [],
   "source": []
  },
  {
   "cell_type": "code",
   "execution_count": 228,
   "metadata": {},
   "outputs": [],
   "source": [
    "from numpy import math\n",
    "from sklearn.preprocessing import MinMaxScaler\n",
    "from sklearn.model_selection import train_test_split\n",
    "from sklearn.linear_model import LinearRegression \n",
    "from sklearn.metrics import r2_score\n",
    "from sklearn.metrics import mean_squared_error\n"
   ]
  },
  {
   "cell_type": "code",
   "execution_count": 229,
   "metadata": {},
   "outputs": [
    {
     "data": {
      "text/plain": [
       "array([[11.9],\n",
       "       [22.8],\n",
       "       [18.7],\n",
       "       [20.1],\n",
       "       [12.9],\n",
       "       [21.7],\n",
       "       [27.1],\n",
       "       [25.4],\n",
       "       [21.3],\n",
       "       [19.3],\n",
       "       [25.4],\n",
       "       [27.2],\n",
       "       [11.7],\n",
       "       [17.8],\n",
       "       [12.8],\n",
       "       [23.9],\n",
       "       [22.6],\n",
       "       [25.4],\n",
       "       [14.8],\n",
       "       [21.1]])"
      ]
     },
     "execution_count": 229,
     "metadata": {},
     "output_type": "execute_result"
    }
   ],
   "source": [
    "y=Dataset.BodyFat.values\n",
    "y.reshape(-1,1)\n"
   ]
  },
  {
   "cell_type": "code",
   "execution_count": 230,
   "metadata": {},
   "outputs": [],
   "source": [
    "x=Dataset[['Triceps','Triceps2']].values"
   ]
  },
  {
   "cell_type": "code",
   "execution_count": 231,
   "metadata": {},
   "outputs": [],
   "source": [
    "x_train,x_test,y_train,y_test=train_test_split(x,y,test_size=0.2,random_state=0)"
   ]
  },
  {
   "cell_type": "code",
   "execution_count": 232,
   "metadata": {},
   "outputs": [],
   "source": [
    "Scaler=MinMaxScaler()\n",
    "x_train=Scaler.fit_transform(x_train)\n",
    "x_test=Scaler.transform(x_test)"
   ]
  },
  {
   "cell_type": "code",
   "execution_count": 233,
   "metadata": {},
   "outputs": [
    {
     "data": {
      "text/plain": [
       "array([[0.98214286, 0.97573758],\n",
       "       [0.92857143, 0.90434783],\n",
       "       [1.        , 1.        ],\n",
       "       [0.30357143, 0.2263587 ],\n",
       "       [0.26785714, 0.19623447],\n",
       "       [0.95833333, 0.94375   ],\n",
       "       [0.6547619 , 0.57220497],\n",
       "       [0.        , 0.        ],\n",
       "       [0.64880952, 0.56559265],\n",
       "       [0.79166667, 0.73143116],\n",
       "       [0.7797619 , 0.71704193],\n",
       "       [0.94047619, 0.92003106],\n",
       "       [0.9047619 , 0.87329193],\n",
       "       [0.29166667, 0.21621377],\n",
       "       [0.88690476, 0.85027174],\n",
       "       [0.24404762, 0.17666925]])"
      ]
     },
     "execution_count": 233,
     "metadata": {},
     "output_type": "execute_result"
    }
   ],
   "source": [
    "x_train"
   ]
  },
  {
   "cell_type": "code",
   "execution_count": 241,
   "metadata": {},
   "outputs": [],
   "source": [
    "regressor=LinearRegression()\n",
    "model=regressor.fit(x_train,y_train)"
   ]
  },
  {
   "cell_type": "code",
   "execution_count": 243,
   "metadata": {},
   "outputs": [],
   "source": [
    "y_pred=regressor.predict(x_test)"
   ]
  },
  {
   "cell_type": "code",
   "execution_count": 244,
   "metadata": {},
   "outputs": [
    {
     "data": {
      "text/plain": [
       "3.2603631879608588"
      ]
     },
     "execution_count": 244,
     "metadata": {},
     "output_type": "execute_result"
    }
   ],
   "source": [
    "math.sqrt(mean_squared_error(y_test,y_pred))"
   ]
  },
  {
   "cell_type": "code",
   "execution_count": 245,
   "metadata": {},
   "outputs": [
    {
     "data": {
      "text/plain": [
       "-0.12545983244153436"
      ]
     },
     "execution_count": 245,
     "metadata": {},
     "output_type": "execute_result"
    }
   ],
   "source": [
    "r2_score(y_test,y_pred)"
   ]
  },
  {
   "cell_type": "code",
   "execution_count": 249,
   "metadata": {},
   "outputs": [
    {
     "data": {
      "text/plain": [
       "array([7.99544138, 6.44776135])"
      ]
     },
     "execution_count": 249,
     "metadata": {},
     "output_type": "execute_result"
    }
   ],
   "source": [
    "model.coef_"
   ]
  },
  {
   "cell_type": "code",
   "execution_count": 250,
   "metadata": {},
   "outputs": [
    {
     "data": {
      "text/plain": [
       "10.977967535687963"
      ]
     },
     "execution_count": 250,
     "metadata": {},
     "output_type": "execute_result"
    }
   ],
   "source": [
    "model.intercept_"
   ]
  },
  {
   "cell_type": "code",
   "execution_count": 252,
   "metadata": {},
   "outputs": [],
   "source": [
    "x1=Dataset[['Triceps','Thigh']].values"
   ]
  },
  {
   "cell_type": "code",
   "execution_count": 253,
   "metadata": {},
   "outputs": [],
   "source": [
    "x1_train,x1_test,y_train,y_test=train_test_split(x1,y,test_size=0.2,random_state=0)"
   ]
  },
  {
   "cell_type": "code",
   "execution_count": 255,
   "metadata": {},
   "outputs": [
    {
     "data": {
      "text/plain": [
       "array([[0.98214286, 0.87804878],\n",
       "       [0.92857143, 1.        ],\n",
       "       [1.        , 0.99390244],\n",
       "       [0.30357143, 0.12195122],\n",
       "       [0.26785714, 0.        ],\n",
       "       [0.95833333, 0.59146341],\n",
       "       [0.6547619 , 0.71341463],\n",
       "       [0.        , 0.0304878 ],\n",
       "       [0.64880952, 0.68902439],\n",
       "       [0.79166667, 0.60365854],\n",
       "       [0.7797619 , 0.79878049],\n",
       "       [0.94047619, 0.88414634],\n",
       "       [0.9047619 , 0.73780488],\n",
       "       [0.29166667, 0.05487805],\n",
       "       [0.88690476, 0.74390244],\n",
       "       [0.24404762, 0.26219512]])"
      ]
     },
     "execution_count": 255,
     "metadata": {},
     "output_type": "execute_result"
    }
   ],
   "source": [
    "Scaler=MinMaxScaler()\n",
    "x1_train=Scaler.fit_transform(x1_train)\n",
    "x1_test=Scaler.transform(x1_test)\n",
    "x1_train"
   ]
  },
  {
   "cell_type": "code",
   "execution_count": 256,
   "metadata": {},
   "outputs": [],
   "source": [
    "regressor=LinearRegression()\n",
    "model1=regressor.fit(x1_train,y_train)"
   ]
  },
  {
   "cell_type": "code",
   "execution_count": 265,
   "metadata": {},
   "outputs": [],
   "source": [
    "y_pred1=regressor.predict(x1_test)"
   ]
  },
  {
   "cell_type": "code",
   "execution_count": 266,
   "metadata": {},
   "outputs": [
    {
     "data": {
      "text/plain": [
       "2.8685902317636685"
      ]
     },
     "execution_count": 266,
     "metadata": {},
     "output_type": "execute_result"
    }
   ],
   "source": [
    "math.sqrt(mean_squared_error(y_test,y_pred))"
   ]
  },
  {
   "cell_type": "code",
   "execution_count": 267,
   "metadata": {},
   "outputs": [
    {
     "data": {
      "text/plain": [
       "0.12876549308947205"
      ]
     },
     "execution_count": 267,
     "metadata": {},
     "output_type": "execute_result"
    }
   ],
   "source": [
    "r2_score(y_test,y_pred1)"
   ]
  },
  {
   "cell_type": "code",
   "execution_count": 268,
   "metadata": {},
   "outputs": [
    {
     "data": {
      "text/plain": [
       "array([ 4.69356999, 10.04367327])"
      ]
     },
     "execution_count": 268,
     "metadata": {},
     "output_type": "execute_result"
    }
   ],
   "source": [
    "model1.coef_"
   ]
  },
  {
   "cell_type": "code",
   "execution_count": 264,
   "metadata": {},
   "outputs": [
    {
     "data": {
      "text/plain": [
       "11.424513273440809"
      ]
     },
     "execution_count": 264,
     "metadata": {},
     "output_type": "execute_result"
    }
   ],
   "source": [
    "model1.intercept_"
   ]
  },
  {
   "cell_type": "code",
   "execution_count": 269,
   "metadata": {},
   "outputs": [],
   "source": [
    "x2=x1=Dataset[['Triceps','Thigh','MidArm']].values"
   ]
  },
  {
   "cell_type": "code",
   "execution_count": 270,
   "metadata": {},
   "outputs": [],
   "source": [
    "x2_train,x2_test,y_train,y_test=train_test_split(x2,y,test_size=0.2,random_state=0)"
   ]
  },
  {
   "cell_type": "code",
   "execution_count": 272,
   "metadata": {},
   "outputs": [
    {
     "data": {
      "text/plain": [
       "array([[0.98214286, 0.87804878, 0.55414013],\n",
       "       [0.92857143, 1.        , 0.21019108],\n",
       "       [1.        , 0.99390244, 0.40127389],\n",
       "       [0.30357143, 0.12195122, 0.46496815],\n",
       "       [0.26785714, 0.        , 0.61146497],\n",
       "       [0.95833333, 0.59146341, 1.        ],\n",
       "       [0.6547619 , 0.71341463, 0.15286624],\n",
       "       [0.        , 0.0304878 , 0.        ],\n",
       "       [0.64880952, 0.68902439, 0.22292994],\n",
       "       [0.79166667, 0.60365854, 0.59235669],\n",
       "       [0.7797619 , 0.79878049, 0.28025478],\n",
       "       [0.94047619, 0.88414634, 0.44585987],\n",
       "       [0.9047619 , 0.73780488, 0.62420382],\n",
       "       [0.29166667, 0.05487805, 0.49681529],\n",
       "       [0.88690476, 0.74390244, 0.56050955],\n",
       "       [0.24404762, 0.26219512, 0.10828025]])"
      ]
     },
     "execution_count": 272,
     "metadata": {},
     "output_type": "execute_result"
    }
   ],
   "source": [
    "Scaler=MinMaxScaler()\n",
    "x2_train=Scaler.fit_transform(x2_train)\n",
    "x2_test=Scaler.transform(x2_test)\n",
    "x2_train"
   ]
  },
  {
   "cell_type": "code",
   "execution_count": 274,
   "metadata": {},
   "outputs": [],
   "source": [
    "regressor=LinearRegression()\n",
    "model2=regressor.fit(x2_train,y_train)"
   ]
  },
  {
   "cell_type": "code",
   "execution_count": 275,
   "metadata": {},
   "outputs": [],
   "source": [
    "y_pred2=regressor.predict(x2_test)"
   ]
  },
  {
   "cell_type": "code",
   "execution_count": 276,
   "metadata": {},
   "outputs": [
    {
     "data": {
      "text/plain": [
       "array([ 59.07190787, -35.51073158, -27.17976437])"
      ]
     },
     "execution_count": 276,
     "metadata": {},
     "output_type": "execute_result"
    }
   ],
   "source": [
    "model2.coef_"
   ]
  },
  {
   "cell_type": "code",
   "execution_count": 277,
   "metadata": {},
   "outputs": [
    {
     "data": {
      "text/plain": [
       "12.80088089919957"
      ]
     },
     "execution_count": 277,
     "metadata": {},
     "output_type": "execute_result"
    }
   ],
   "source": [
    "model2.intercept_"
   ]
  },
  {
   "cell_type": "code",
   "execution_count": 278,
   "metadata": {},
   "outputs": [
    {
     "data": {
      "text/plain": [
       "0.33125806546762815"
      ]
     },
     "execution_count": 278,
     "metadata": {},
     "output_type": "execute_result"
    }
   ],
   "source": [
    "r2_score(y_test,y_pred2)"
   ]
  },
  {
   "cell_type": "code",
   "execution_count": 279,
   "metadata": {},
   "outputs": [
    {
     "data": {
      "text/plain": [
       "2.51321856822248"
      ]
     },
     "execution_count": 279,
     "metadata": {},
     "output_type": "execute_result"
    }
   ],
   "source": [
    "math.sqrt(mean_squared_error(y_test,y_pred2))"
   ]
  },
  {
   "cell_type": "code",
   "execution_count": null,
   "metadata": {},
   "outputs": [],
   "source": []
  },
  {
   "cell_type": "code",
   "execution_count": null,
   "metadata": {},
   "outputs": [],
   "source": []
  }
 ],
 "metadata": {
  "kernelspec": {
   "display_name": "Python 3",
   "language": "python",
   "name": "python3"
  },
  "language_info": {
   "codemirror_mode": {
    "name": "ipython",
    "version": 3
   },
   "file_extension": ".py",
   "mimetype": "text/x-python",
   "name": "python",
   "nbconvert_exporter": "python",
   "pygments_lexer": "ipython3",
   "version": "3.7.6"
  }
 },
 "nbformat": 4,
 "nbformat_minor": 4
}
