{
 "cells": [
  {
   "cell_type": "markdown",
   "metadata": {},
   "source": [
    "In order to successfully complete this assignment we recommend that you participate both individually and in groups during class. **Turn in your assignment using D2L no later than 11:59pm on the day of class.** Grading is based on correctness and completion."
   ]
  },
  {
   "cell_type": "markdown",
   "metadata": {},
   "source": [
    "# 13 In-Class Assignment: Projections\n",
    "\n",
    "<img alt=\"Graph showing how one vector can be projected onto another vector by forming a right triangle\" src=\"https://upload.wikimedia.org/wikipedia/commons/9/98/Projection_and_rejection.png\" width=\"50%\">\n",
    "\n",
    "Image from: https://en.wikipedia.org/wiki/Vector_projection\n",
    "\n"
   ]
  },
  {
   "cell_type": "markdown",
   "metadata": {},
   "source": [
    "### Agenda for today's class (80 minutes)\n",
    "\n",
    "1. [(20 minutes) Pre-Class Review](#Quiz_4_Review)\n",
    "1. [(30 minutes) Understanding Projections with Code](#Understanding_Projections_with_Code)\n",
    "1. [(30 minutes) Gram-Schmidt Orthogonalization Process](#Gram-Schmidt_Orthogonalization_Process)\n"
   ]
  },
  {
   "cell_type": "markdown",
   "metadata": {},
   "source": [
    "---\n",
    "<a name=\"Quiz_4_Review\"></a>\n",
    "## 1. Pre-class Review\n",
    "\n",
    "* [13--Projections_pre-class-assignment](13--Projections_pre-class-assignment.ipynb)"
   ]
  },
  {
   "cell_type": "markdown",
   "metadata": {},
   "source": [
    "----\n",
    "<a name=\"Understanding_Projections_with_Code\"></a>\n",
    "## 2. Understanding Projections With Code\n",
    "\n",
    "In this in-class assignment, we are going to avoid some of the more advanced libraries ((i.e. no ```numpy``` or ```scipy``` or ```sympy```) to try to get a better understanding of what is going on in the math. \n",
    "The following code implements some common linear algebra functions:"
   ]
  },
  {
   "cell_type": "code",
   "execution_count": 230,
   "metadata": {},
   "outputs": [],
   "source": [
    "#Standard Python Libraries only\n",
    "import math\n",
    "import copy"
   ]
  },
  {
   "cell_type": "code",
   "execution_count": 231,
   "metadata": {},
   "outputs": [],
   "source": [
    "def dot(u,v):\n",
    "    '''Calculate the dot product between vectors u and v'''\n",
    "    if len(u) != len(v):\n",
    "        print(\"ERROR -  dimensions not equal\")\n",
    "    else:\n",
    "        temp = 0;\n",
    "        for i in range(len(u)):\n",
    "            temp += u[i]*v[i]\n",
    "        return temp"
   ]
  },
  {
   "cell_type": "code",
   "execution_count": 232,
   "metadata": {},
   "outputs": [],
   "source": [
    "def multiply(m1,m2):\n",
    "    '''Calculate the matrix multiplication between m1 and m2 represented as list-of-list.'''\n",
    "    n = len(m1)\n",
    "    d = len(m2)\n",
    "    m = len(m2[0])\n",
    "    \n",
    "    if len(m1[0]) != d:\n",
    "        print(\"ERROR - inner dimentions not equal\")\n",
    "    else:\n",
    "        result = [[0 for i in range(n)] for j in range(m)]\n",
    "        for i in range(0,n):\n",
    "            for j in range(0,m):\n",
    "                for k in range(0,d):\n",
    "                    result[i][j] = result[i][j] + m1[i][k] * m2[k][j]\n",
    "        return result"
   ]
  },
  {
   "cell_type": "code",
   "execution_count": 233,
   "metadata": {},
   "outputs": [],
   "source": [
    "def add_vectors(v1,v2):\n",
    "    v3 = []\n",
    "    for i in range(len(v1)):\n",
    "        v3.append(v1[i]+v2[i])\n",
    "    return v3"
   ]
  },
  {
   "cell_type": "code",
   "execution_count": 234,
   "metadata": {},
   "outputs": [],
   "source": [
    "def sub_vectors(v1,v2):\n",
    "    v3 = []\n",
    "    for i in range(len(v1)):\n",
    "        v3.append(v1[i]-v2[i])\n",
    "    return v3"
   ]
  },
  {
   "cell_type": "code",
   "execution_count": 235,
   "metadata": {},
   "outputs": [],
   "source": [
    "def norm(u):\n",
    "    '''Calculate the norm of vector u'''\n",
    "    nm = 0\n",
    "    for i in range(len(u)):\n",
    "        nm += u[i]*u[i]\n",
    "    return math.sqrt(nm)"
   ]
  },
  {
   "cell_type": "code",
   "execution_count": 236,
   "metadata": {},
   "outputs": [],
   "source": [
    "def transpose(A):\n",
    "    '''Calculate the transpose of matrix A represented as list of lists'''\n",
    "    n = len(A)\n",
    "    m = len(A[0])\n",
    "    AT = list()\n",
    "    for j in range(0,m):    \n",
    "        temp = list()\n",
    "        for i in range(0,n):\n",
    "            temp.append(A[i][j])\n",
    "        AT.append(temp)\n",
    "    return AT"
   ]
  },
  {
   "cell_type": "code",
   "execution_count": null,
   "metadata": {},
   "outputs": [],
   "source": [
    "def dot(u,v):\n",
    "    '''Calculate the dot product between vectors u and v'''\n",
    "    if len(u) != len(v):\n",
    "        print(\"ERROR -  dimensions not equal\")\n",
    "    else:\n",
    "        temp = 0;\n",
    "        for i in range(len(u)):\n",
    "            temp += u[i]*v[i]\n",
    "        return temp\n",
    "    \n",
    "def multiply(m1,m2):\n",
    "    '''Calculate the matrix multiplication between m1 and m2 represented as list-of-list.'''\n",
    "    n = len(m1)\n",
    "    d = len(m2)\n",
    "    m = len(m2[0])\n",
    "    \n",
    "    if len(m1[0]) != d:\n",
    "        print(\"ERROR - inner dimentions not equal\")\n",
    "    else:\n",
    "        result = [[0 for i in range(n)] for j in range(m)]\n",
    "        for i in range(0,n):\n",
    "            for j in range(0,m):\n",
    "                for k in range(0,d):\n",
    "                    result[i][j] = result[i][j] + m1[i][k] * m2[k][j]\n",
    "        return result\n",
    "    \n",
    "def add_vectors(v1,v2):\n",
    "    v3 = []\n",
    "    for i in range(len(v1)):\n",
    "        v3.append(v1[i]+v2[i])\n",
    "    return v3\n",
    "\n",
    "\n",
    "def sub_vectors(v1,v2):\n",
    "    v3 = []\n",
    "    for i in range(len(v1)):\n",
    "        v3.append(v1[i]-v2[i])\n",
    "    return v3\n",
    "\n",
    "def norm(u):\n",
    "    '''Calculate the norm of vector u'''\n",
    "    nm = 0\n",
    "    for i in range(len(u)):\n",
    "        nm += u[i]*u[i]\n",
    "    return math.sqrt(nm)\n",
    "\n",
    "\n",
    "def transpose(A):\n",
    "    '''Calculate the transpose of matrix A represented as list of lists'''\n",
    "    n = len(A)\n",
    "    m = len(A[0])\n",
    "    AT = list()\n",
    "    for j in range(0,m):    \n",
    "        temp = list()\n",
    "        for i in range(0,n):\n",
    "            temp.append(A[i][j])\n",
    "        AT.append(temp)\n",
    "    return AT"
   ]
  },
  {
   "cell_type": "markdown",
   "metadata": {},
   "source": [
    "### Projection function\n",
    "\n",
    "&#9989; **<font color=red>DO THIS:</font>** Write a function that projects vector $v$ onto vector $u$. \n",
    "Do not use the numpy library. \n",
    "Instead, use the functions provided above:\n",
    "\n",
    "$$\\mbox{proj}_u v = \\frac{v \\cdot u}{u \\cdot u} u$$\n",
    "\n",
    "Make sure this function will work for any size of $v$ and $u$. "
   ]
  },
  {
   "cell_type": "code",
   "execution_count": 237,
   "metadata": {},
   "outputs": [],
   "source": [
    "def proj(v,u):\n",
    "    \n",
    "    unorm = norm(u)\n",
    "    top = dot(v, u)\n",
    "    bot = unorm**2\n",
    "    scale = top/bot\n",
    "    pv = []\n",
    "    for item in u:\n",
    "        pv.append(item*scale)\n",
    "    return pv\n",
    "    "
   ]
  },
  {
   "cell_type": "markdown",
   "metadata": {},
   "source": [
    "Let's test your function. Below are two example vectors. Find the projection of v onto u. Note that the order of variables in your function `proj(.,.)` matters! Make sure you get the correct answers. \n",
    "You may want to test this code with more than one set of vectors. "
   ]
  },
  {
   "cell_type": "code",
   "execution_count": 238,
   "metadata": {},
   "outputs": [
    {
     "name": "stdout",
     "output_type": "stream",
     "text": [
      "[2.0, 4.0, 0.0, 6.0]\n"
     ]
    }
   ],
   "source": [
    "u = [1,2,0,3]\n",
    "v = [4,0,5,8]\n",
    "print(proj(v,u))"
   ]
  },
  {
   "cell_type": "code",
   "execution_count": 239,
   "metadata": {},
   "outputs": [
    {
     "name": "stdout",
     "output_type": "stream",
     "text": [
      "\n",
      "CheckWarning: passed variable is <class 'list'> and not a numpy.matrix.\n",
      "    Trying to convert to a array matrix using ```A = np.matrix(A)```.\n",
      "\n",
      "\n",
      "CheckWarning: Vector contains negative values for zero...\n",
      "    Converting to positive values of zero using  ```A[A==-0] = 0```.\n",
      "\n",
      "Testing [[2. 4. 0. 6.]]\n",
      "Answer seems to be correct\n",
      "\n"
     ]
    }
   ],
   "source": [
    "from answercheck import checkanswer\n",
    "\n",
    "checkanswer.vector(proj(v,u),'b400dee73da5b8fa07602efd89f20ac1');"
   ]
  },
  {
   "cell_type": "markdown",
   "metadata": {},
   "source": [
    "### Visualizing projections\n",
    "\n",
    "&#9989; **<font color=red>DO THIS:</font>** See if you can design and implement a small function that takes two vectors ($a$ and $b$) as inputs and generates a figure similar to the one above.\n",
    "\n",
    "\n",
    "I.e. a black line from the origin to \"$b$\", a black line from the origin to \"$a$\"; a green line showing the \"$a$\" component in the \"$b$\" direction and a red line showing the \"$a$\" component orthogonal to the green line. \n",
    "\n",
    "When complete, show your solution to the instructor."
   ]
  },
  {
   "cell_type": "code",
   "execution_count": 246,
   "metadata": {},
   "outputs": [
    {
     "data": {
      "image/png": "[encoded data removed]",
      "text/plain": [
       "<Figure size 432x288 with 1 Axes>"
      ]
     },
     "metadata": {
      "needs_background": "light"
     },
     "output_type": "display_data"
    }
   ],
   "source": [
    "%matplotlib inline\n",
    "import matplotlib.pylab as plt\n",
    "\n",
    "b = [3,2]\n",
    "a = [2,3]\n",
    "\n",
    "def show_projection(a,b):\n",
    "    plt.plot([0,a[0]], [0,a[1]], color='black')\n",
    "    plt.annotate('b', b, \n",
    "            xytext=(0.9, 0.7), textcoords='axes fraction',\n",
    "            arrowprops=dict(facecolor='black', shrink=0.05),\n",
    "            horizontalalignment='right', verticalalignment='top')\n",
    "    plt.annotate('a', a, \n",
    "            xytext=(0.7, 0.95), textcoords='axes fraction',\n",
    "            arrowprops=dict(facecolor='black', shrink=0.05),\n",
    "            horizontalalignment='right', verticalalignment='top')\n",
    "    plt.plot([0,b[0]], [0,b[1]], color='black')\n",
    "    \n",
    "    \n",
    "    c = proj(a, b)\n",
    "    plt.plot([0, c[0]], [0, c[1]], color='green')\n",
    "    \n",
    "    \n",
    "    plt.plot([a[0], c[0]], [a[1], c[1]], color='red')\n",
    "    \n",
    "    \n",
    "#Finish your code here\n",
    "\n",
    "    plt.axis('equal')\n",
    "    \n",
    "x = show_projection(a,b) ;"
   ]
  },
  {
   "cell_type": "markdown",
   "metadata": {},
   "source": [
    "----\n",
    "\n",
    "<a name=\"Gram-Schmidt_Orthogonalization_Process\"></a>\n",
    "\n",
    "## 3. Gram-Schmidt Orthogonalization Process\n",
    "\n",
    "&#9989; **<font color=red>DO THIS:</font>** Implement the Gram-Schmidt orthogonalization process from the [Hefron](http://joshua.smcvt.edu/linearalgebra/book.pdf) textbook (page 282). \n",
    "This function takes a $m \\times n$ Matrix $A$ with linearly independent columns as input and return a $m \\times n$ Matrix $G$ with orthogonal column vectors. \n",
    "The basic algorithm works as follows:\n",
    "\n",
    "- ```AT = transpose(A)``` (this process works with the columns of the matrix so it is easier to work with the transpose. Think about a list of list, it is easy to get a row (a list)).  \n",
    "- Make a new empty list of the same size as ```AT``` and call it ```GT``` (G transpose)\n",
    "- Loop index ```i``` over all of the rows in AT (i.e. columns of A) \n",
    "\n",
    "    - ```GT[i] = AT[i]```\n",
    "    - Loop index ```j``` from 0 to ```i```\n",
    "        - ```GT[i] -= proj(GT[i], GT[j])```\n",
    "        \n",
    "        \n",
    "- ```G = transpose(GT)```\n",
    "\n",
    "Use the following function definition as a template:"
   ]
  },
  {
   "cell_type": "code",
   "execution_count": 247,
   "metadata": {},
   "outputs": [],
   "source": [
    "def GramSchmidt(A):\n",
    "    AT = transpose(A)\n",
    "    cols = len(AT[0])\n",
    "    rows = len(AT)\n",
    "    GT = [[0 for _ in range(len(AT[0]))] for _ in range(len(AT))]\n",
    "    for i in range(rows):\n",
    "        GT[i] = AT[i]\n",
    "        for j in range(0, i):\n",
    "            GT[i] = sub_vectors(GT[i], proj(GT[i], GT[j]))\n",
    "            \n",
    "    G = transpose(GT)\n",
    "    return G"
   ]
  },
  {
   "cell_type": "markdown",
   "metadata": {},
   "source": [
    "Here, we are going to test your function using the vectors:"
   ]
  },
  {
   "cell_type": "code",
   "execution_count": 248,
   "metadata": {},
   "outputs": [
    {
     "name": "stdout",
     "output_type": "stream",
     "text": [
      "[[1, 2, 0, 3], [4, 0, 5, 8], [8, 1, 5, 6]]\n",
      "[[1, 2, 0, 3], [2.0, -4.0, 5.0, 2.0], [4.0, 1.0, 0.0, -2.0]]\n"
     ]
    }
   ],
   "source": [
    "A4 = [[1,4,8],[2,0,1],[0,5,5],[3,8,6]]\n",
    "print(transpose(A4))\n",
    "G4 = GramSchmidt(A4)\n",
    "print(transpose(G4))"
   ]
  },
  {
   "cell_type": "code",
   "execution_count": 249,
   "metadata": {},
   "outputs": [
    {
     "name": "stdout",
     "output_type": "stream",
     "text": [
      "\n",
      "CheckWarning: passed variable is <class 'list'> and not a numpy.matrix...\n",
      "    Trying to convert to a array matrix using ```A = np.matrix(A)```.\n",
      "\n",
      "\n",
      "CheckWarning: Matrix contains negative values for zero...\n",
      "    Converting to positive values of zero using  ```A[A==-0] = 0```.\n",
      "\n",
      "Testing [[ 1.  2.  4.]\n",
      " [ 2. -4.  1.]\n",
      " [ 0.  5.  0.]\n",
      " [ 3.  2. -2.]]\n",
      "Answer seems to be correct\n",
      "\n"
     ]
    }
   ],
   "source": [
    "from answercheck import checkanswer\n",
    "\n",
    "checkanswer.matrix(G4,'a472a81eef411c0df03ae9a072dfa040');"
   ]
  },
  {
   "cell_type": "code",
   "execution_count": 250,
   "metadata": {},
   "outputs": [
    {
     "name": "stdout",
     "output_type": "stream",
     "text": [
      "[[-4, 3], [-6, 5]]\n",
      "[[-4, 3], [0.2400000000000002, 0.3200000000000003]]\n"
     ]
    }
   ],
   "source": [
    "A2 = [[-4,-6],[3,5]]\n",
    "print(transpose(A2))\n",
    "G2 = GramSchmidt(A2)\n",
    "print(transpose(G2))"
   ]
  },
  {
   "cell_type": "code",
   "execution_count": 251,
   "metadata": {},
   "outputs": [
    {
     "name": "stdout",
     "output_type": "stream",
     "text": [
      "\n",
      "CheckWarning: passed variable is <class 'list'> and not a numpy.matrix...\n",
      "    Trying to convert to a array matrix using ```A = np.matrix(A)```.\n",
      "\n",
      "Testing [[-4.    0.24]\n",
      " [ 3.    0.32]]\n",
      "Answer seems to be correct\n",
      "\n"
     ]
    }
   ],
   "source": [
    "from answercheck import checkanswer\n",
    "\n",
    "checkanswer.matrix(G2,'23b9860b72dbe5b84d7c598c08af9688');"
   ]
  },
  {
   "cell_type": "markdown",
   "metadata": {},
   "source": [
    "&#9989; **<font color=red>QUESTION:</font>** What is the Big-O complexity of the Gram-Schmidt process? "
   ]
  },
  {
   "cell_type": "markdown",
   "metadata": {},
   "source": [
    "Runtime complexity is O(M*N)"
   ]
  },
  {
   "cell_type": "markdown",
   "metadata": {},
   "source": [
    "----\n",
    "\n",
    "Written by Dr. Dirk Colbry, Michigan State University\n",
    "<a rel=\"license\" href=\"http://creativecommons.org/licenses/by-nc/4.0/\"><img alt=\"Creative Commons License\" style=\"border-width:0\" src=\"https://i.creativecommons.org/l/by-nc/4.0/88x31.png\" /></a><br />This work is licensed under a <a rel=\"license\" href=\"http://creativecommons.org/licenses/by-nc/4.0/\">Creative Commons Attribution-NonCommercial 4.0 International License</a>."
   ]
  },
  {
   "cell_type": "markdown",
   "metadata": {},
   "source": [
    "\n",
    "### Congratulations, we're done!\n",
    "\n"
   ]
  }
 ],
 "metadata": {
  "kernelspec": {
   "display_name": "Python 3",
   "language": "python",
   "name": "python3"
  },
  "language_info": {
   "codemirror_mode": {
    "name": "ipython",
    "version": 3
   },
   "file_extension": ".py",
   "mimetype": "text/x-python",
   "name": "python",
   "nbconvert_exporter": "python",
   "pygments_lexer": "ipython3",
   "version": "3.7.6"
  }
 },
 "nbformat": 4,
 "nbformat_minor": 4
}
