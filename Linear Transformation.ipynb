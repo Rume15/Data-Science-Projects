{
 "cells": [
  {
   "cell_type": "code",
   "execution_count": 2,
   "id": "f2888f09",
   "metadata": {},
   "outputs": [
    {
     "name": "stdout",
     "output_type": "stream",
     "text": [
      "[[ 2  0  1]\n",
      " [ 0 -4  0]]\n"
     ]
    },
    {
     "data": {
      "text/plain": [
       "(Matrix([\n",
       " [1, 0, 1/2],\n",
       " [0, 1,   0]]),\n",
       " (0, 1))"
      ]
     },
     "execution_count": 2,
     "metadata": {},
     "output_type": "execute_result"
    }
   ],
   "source": [
    "import numpy as np\n",
    "import numpy.linalg as la\n",
    "from sympy import *\n",
    "A= np.array([[2,0,1],[0,-4,0]])\n",
    "print(A)\n",
    "Matrix(A).rref()"
   ]
  },
  {
   "cell_type": "code",
   "execution_count": 3,
   "id": "19115ef4",
   "metadata": {},
   "outputs": [],
   "source": [
    "a=np.array([3,6,9])\n",
    "b=np.array([2,5,8])\n",
    "def trans1(x):\n",
    "    x1=2*x[0]+x[2]\n",
    "    x2=4*x[1]\n",
    "    return (np.array([x1,x2]))\n",
    "#=T(a+b)=T(a)+T(b)\n",
    "#T(ca)=cT(a)"
   ]
  },
  {
   "cell_type": "code",
   "execution_count": 4,
   "id": "332962a4",
   "metadata": {},
   "outputs": [
    {
     "data": {
      "text/plain": [
       "array([ True,  True])"
      ]
     },
     "execution_count": 4,
     "metadata": {},
     "output_type": "execute_result"
    }
   ],
   "source": [
    "trans1(a+b)==trans1(a)+trans1(b)"
   ]
  },
  {
   "cell_type": "code",
   "execution_count": 5,
   "id": "887f2814",
   "metadata": {},
   "outputs": [
    {
     "data": {
      "text/plain": [
       "array([ True,  True])"
      ]
     },
     "execution_count": 5,
     "metadata": {},
     "output_type": "execute_result"
    }
   ],
   "source": [
    "c=6#any number 6, 56, ...\n",
    "trans1(6*a)==6*trans1(a)"
   ]
  },
  {
   "cell_type": "code",
   "execution_count": null,
   "id": "4e1f8684",
   "metadata": {},
   "outputs": [],
   "source": [
    "##SPecial Transformation"
   ]
  },
  {
   "cell_type": "code",
   "execution_count": 6,
   "id": "fee2b2a1",
   "metadata": {},
   "outputs": [
    {
     "data": {
      "text/plain": [
       "0.7071067811865476"
      ]
     },
     "execution_count": 6,
     "metadata": {},
     "output_type": "execute_result"
    }
   ],
   "source": [
    "rad =np.cos(np.deg2rad(45))\n",
    "round(rad, 20)"
   ]
  },
  {
   "cell_type": "code",
   "execution_count": 8,
   "id": "5ab83e5c",
   "metadata": {},
   "outputs": [
    {
     "name": "stdout",
     "output_type": "stream",
     "text": [
      "[[ 0.76 -0.65]\n",
      " [ 0.65  0.76]]\n"
     ]
    }
   ],
   "source": [
    "R=np.array([[np.cos(rad),-np.sin(rad)],\n",
    "           [np.sin(rad),np.cos(rad)]])\n",
    "print(np.around(R,3))"
   ]
  },
  {
   "cell_type": "code",
   "execution_count": 9,
   "id": "39b9cd6a",
   "metadata": {},
   "outputs": [
    {
     "name": "stdout",
     "output_type": "stream",
     "text": [
      "[[0.981]\n",
      " [3.469]]\n"
     ]
    }
   ],
   "source": [
    "b=np.array([[3],[2]])\n",
    "c=np.dot(R,b)\n",
    "print(np.around(c,3))"
   ]
  },
  {
   "cell_type": "markdown",
   "id": "63895b28",
   "metadata": {},
   "source": [
    "##Diagonalisation\n",
    "\n",
    "$$A=PDP^{-1}$$\n",
    "###A=[<1, 2>, <-4, 1>]\n",
    "##D=[<5, 0>, <0, 3>]\n",
    "##P=[<1, -1>, <1, -2]\n"
   ]
  },
  {
   "cell_type": "code",
   "execution_count": 23,
   "id": "baee5da8",
   "metadata": {},
   "outputs": [
    {
     "name": "stdout",
     "output_type": "stream",
     "text": [
      "[[5 0]\n",
      " [0 3]]\n"
     ]
    }
   ],
   "source": [
    "A=np.array([[1,2],[-4,1]])\n",
    "D=np.array([[5,0],[0,3]])\n",
    "P=np.array([[1,-1],[1,-2]])\n",
    "print(D)"
   ]
  },
  {
   "cell_type": "code",
   "execution_count": 17,
   "id": "d8bdce15",
   "metadata": {},
   "outputs": [
    {
     "name": "stdout",
     "output_type": "stream",
     "text": [
      "[[125   0]\n",
      " [  0  27]]\n"
     ]
    }
   ],
   "source": [
    "D3=np.array([[5**3,0],[0,3**3]])\n",
    "print(D3)\n",
    "###D=[<1, -1>, <1, -2>]"
   ]
  },
  {
   "cell_type": "code",
   "execution_count": 18,
   "id": "b8f9334f",
   "metadata": {},
   "outputs": [
    {
     "name": "stdout",
     "output_type": "stream",
     "text": [
      "[[223. -98.]\n",
      " [196. -71.]]\n"
     ]
    }
   ],
   "source": [
    "Arecovered=np.dot(np.dot(P,D3),la.inv(P))\n",
    "print(Arecovered)"
   ]
  },
  {
   "cell_type": "code",
   "execution_count": 19,
   "id": "0fc91d7a",
   "metadata": {},
   "outputs": [
    {
     "data": {
      "text/plain": [
       "array([[-23, -10],\n",
       "       [ 20, -23]])"
      ]
     },
     "execution_count": 19,
     "metadata": {},
     "output_type": "execute_result"
    }
   ],
   "source": [
    "la.matrix_power(A,3)"
   ]
  },
  {
   "cell_type": "code",
   "execution_count": 24,
   "id": "880fc453",
   "metadata": {},
   "outputs": [
    {
     "name": "stdout",
     "output_type": "stream",
     "text": [
      "[1.+2.82842712j 1.-2.82842712j]\n",
      "[[0.        -0.57735027j 0.        +0.57735027j]\n",
      " [0.81649658+0.j         0.81649658-0.j        ]]\n"
     ]
    }
   ],
   "source": [
    "d, P=la.eig(A)\n",
    "print(d)\n",
    "print(P)\n",
    "\n"
   ]
  },
  {
   "cell_type": "code",
   "execution_count": 25,
   "id": "e5f21c74",
   "metadata": {},
   "outputs": [
    {
     "name": "stdout",
     "output_type": "stream",
     "text": [
      "[[1.+2.82842712j 0.+0.j        ]\n",
      " [0.+0.j         1.-2.82842712j]]\n"
     ]
    }
   ],
   "source": [
    "D=np.diag(d)\n",
    "print(D)"
   ]
  },
  {
   "cell_type": "code",
   "execution_count": 29,
   "id": "8ae79a58",
   "metadata": {},
   "outputs": [
    {
     "name": "stdout",
     "output_type": "stream",
     "text": [
      "[[ 1.-0.j  2.-0.j]\n",
      " [-4.-0.j  1.+0.j]]\n",
      "[[ True  True]\n",
      " [ True  True]]\n"
     ]
    }
   ],
   "source": [
    "PDP_1=np.round(np.dot(np.dot(P,D),la.inv(P)),0)\n",
    "print(PDP_1)\n",
    "print(A==PDP_1)"
   ]
  },
  {
   "cell_type": "code",
   "execution_count": null,
   "id": "8dbc1643",
   "metadata": {},
   "outputs": [],
   "source": [
    "#QR Decomposition"
   ]
  }
 ],
 "metadata": {
  "kernelspec": {
   "display_name": "Python 3 (ipykernel)",
   "language": "python",
   "name": "python3"
  },
  "language_info": {
   "codemirror_mode": {
    "name": "ipython",
    "version": 3
   },
   "file_extension": ".py",
   "mimetype": "text/x-python",
   "name": "python",
   "nbconvert_exporter": "python",
   "pygments_lexer": "ipython3",
   "version": "3.10.9"
  }
 },
 "nbformat": 4,
 "nbformat_minor": 5
}
