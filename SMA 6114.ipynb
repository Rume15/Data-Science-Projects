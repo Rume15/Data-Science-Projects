{
 "cells": [
  {
   "cell_type": "markdown",
   "id": "e5c524fc",
   "metadata": {},
   "source": [
    "# Lecture 1: Learning to code in Python"
   ]
  },
  {
   "cell_type": "code",
   "execution_count": 6,
   "id": "4fce3c4a",
   "metadata": {},
   "outputs": [
    {
     "name": "stdout",
     "output_type": "stream",
     "text": [
      "a [1, 2, 3, 4]\n"
     ]
    }
   ],
   "source": [
    "import numpy as np ## Importing the numpy library\n",
    "a = [1,2,3,4]\n",
    "print(\"a\",a)"
   ]
  },
  {
   "cell_type": "code",
   "execution_count": null,
   "id": "953ba813",
   "metadata": {},
   "outputs": [],
   "source": []
  },
  {
   "cell_type": "code",
   "execution_count": 3,
   "id": "847e1a8d",
   "metadata": {},
   "outputs": [
    {
     "name": "stdout",
     "output_type": "stream",
     "text": [
      "ab:= [1, 2, 3, 4]\n"
     ]
    }
   ],
   "source": [
    "print(\"a:=\",a)"
   ]
  },
  {
   "cell_type": "code",
   "execution_count": 27,
   "id": "396f88bb",
   "metadata": {},
   "outputs": [
    {
     "name": "stdout",
     "output_type": "stream",
     "text": [
      "[[1 4 5]\n",
      " [2 8 7]\n",
      " [3 7 8]\n",
      " [4 8 7]]\n"
     ]
    }
   ],
   "source": [
    "A=np.array([[1,4,5],[2,8,7],[3,7,8],[4,8,7]])\n",
    "print(A)"
   ]
  },
  {
   "cell_type": "code",
   "execution_count": 35,
   "id": "e3c2256c",
   "metadata": {},
   "outputs": [
    {
     "name": "stdout",
     "output_type": "stream",
     "text": [
      "A:= [[1 4 5]\n",
      " [2 8 7]\n",
      " [3 7 8]\n",
      " [4 8 7]]\n",
      "B:= [[ 1  2  3]\n",
      " [ 3  4  5]\n",
      " [ 6  7  8]\n",
      " [ 9 10 11]]\n"
     ]
    }
   ],
   "source": [
    "## Writing a matrix\n",
    "B=np.array([[1,2 ,3],\n",
    "            [3, 4,5],\n",
    "            [6, 7,8],\n",
    "            [9,10,11]])\n",
    "print(\"A:=\",A)\n",
    "print(\"B:=\",B)\n"
   ]
  },
  {
   "cell_type": "markdown",
   "id": "221a692d",
   "metadata": {},
   "source": [
    "#Typing Mathematics using $\\LaTex$\n",
    "#Let try tysetting Mathematics equations given below:\n",
    "    $$AX=B$$\n",
    "    $$\\begin[matrix] 1,2 \\\\ 3,4 \\end [matrix]$$"
   ]
  },
  {
   "cell_type": "code",
   "execution_count": 36,
   "id": "4d21fe1a",
   "metadata": {},
   "outputs": [
    {
     "name": "stdout",
     "output_type": "stream",
     "text": [
      "S= [[ 2  6  8]\n",
      " [ 5 12 12]\n",
      " [ 9 14 16]\n",
      " [13 18 18]]\n",
      "T= [[ 0  2  2]\n",
      " [-1  4  2]\n",
      " [-3  0  0]\n",
      " [-5 -2 -4]]\n"
     ]
    }
   ],
   "source": [
    "## Sum/Addition\n",
    "S=A+B\n",
    "print(\"S=\",A+B) # example of addition\n",
    "print(\"T=\", A-B) # example of substraction"
   ]
  },
  {
   "cell_type": "code",
   "execution_count": 46,
   "id": "e11f04a3",
   "metadata": {},
   "outputs": [
    {
     "name": "stdout",
     "output_type": "stream",
     "text": [
      "A [[1 4 5]\n",
      " [2 8 7]\n",
      " [3 7 8]\n",
      " [4 8 7]]\n",
      "B [[ 1  2  3]\n",
      " [ 3  4  5]\n",
      " [ 6  7  8]\n",
      " [ 9 10 11]]\n",
      "M [[ 1  8 15]\n",
      " [ 6 32 35]\n",
      " [18 49 64]\n",
      " [36 80 77]]\n",
      "BT [[ 24  44  74 104]\n",
      " [ 39  73 124 175]\n",
      " [ 41  77 131 185]\n",
      " [ 41  79 136 193]]\n"
     ]
    }
   ],
   "source": [
    "## Multiplication of matrices\n",
    "M=A*B\n",
    "BT=np.transpose(B)\n",
    "print(\"A\",A)\n",
    "print('B',B)\n",
    "print('M',M)\n",
    "print('BT',np.matmul(A,BT))\n"
   ]
  },
  {
   "cell_type": "code",
   "execution_count": 10,
   "id": "711d7cbb",
   "metadata": {},
   "outputs": [
    {
     "name": "stdout",
     "output_type": "stream",
     "text": [
      "1\n",
      "2\n",
      "3\n",
      "4\n",
      "5\n",
      "6\n",
      "7\n",
      "8\n",
      "9\n"
     ]
    }
   ],
   "source": [
    "value = 1\n",
    "while value<10:\n",
    "    print(value)\n",
    "    value +=1"
   ]
  },
  {
   "cell_type": "code",
   "execution_count": null,
   "id": "bf8bb222",
   "metadata": {},
   "outputs": [],
   "source": []
  },
  {
   "cell_type": "code",
   "execution_count": null,
   "id": "31ee4987",
   "metadata": {},
   "outputs": [],
   "source": []
  }
 ],
 "metadata": {
  "kernelspec": {
   "display_name": "Python 3 (ipykernel)",
   "language": "python",
   "name": "python3"
  },
  "language_info": {
   "codemirror_mode": {
    "name": "ipython",
    "version": 3
   },
   "file_extension": ".py",
   "mimetype": "text/x-python",
   "name": "python",
   "nbconvert_exporter": "python",
   "pygments_lexer": "ipython3",
   "version": "3.10.9"
  }
 },
 "nbformat": 4,
 "nbformat_minor": 5
}
